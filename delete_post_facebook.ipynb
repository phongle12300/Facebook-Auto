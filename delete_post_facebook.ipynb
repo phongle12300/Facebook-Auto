{
 "cells": [
  {
   "cell_type": "code",
   "execution_count": 3,
   "outputs": [],
   "source": [
    "import os, sys, requests, re, bs4\n",
    "from bs4 import BeautifulSoup as bs\n",
    "from queue import Queue\n"
   ],
   "metadata": {
    "collapsed": false,
    "ExecuteTime": {
     "end_time": "2023-06-16T02:20:39.443330800Z",
     "start_time": "2023-06-16T02:20:39.336425500Z"
    }
   }
  },
  {
   "cell_type": "code",
   "execution_count": 56,
   "metadata": {
    "collapsed": true,
    "ExecuteTime": {
     "end_time": "2023-06-16T02:13:33.865682500Z",
     "start_time": "2023-06-16T02:13:33.862707100Z"
    }
   },
   "outputs": [],
   "source": [
    "class Token:\n",
    "    def __init__(self,cookie):\n",
    "        self.xyz    = requests.Session()\n",
    "        self.cookie = {'cookie':cookie}\n",
    "        app_id      = [\n",
    "            '1348564698517390|007c0a9101b9e1c8ffab727666805038', #--> Meta Portal\n",
    "            '1174099472704185|0722a7d5b5a4ac06b11450f7114eb2e9', #--> Messenger Kids for iOS\n",
    "            '155327495133707|a151725bc9b8808a800f4c891505e558' , #--> Facebook Watch for Oculus\n",
    "            '1331685116912965|e334a1eca4d4ea9ac0c0132a31730663', #--> Facebook Watch for Xbox\n",
    "            '867777633323150|446fdcd4a3704f64e5f6e5fd12d35d01' , #--> Facebook Watch for Amazon Fire TV\n",
    "            '437340816620806|04a36c2558cde98e185d7f4f701e4d94' , #--> Facebook Watch for Android TV\n",
    "            '661587963994814|ffe07cc864fd1dc8fe386229dcb7a05e' , #--> Facebook Watch for Apple TV\n",
    "            '1692575501067666|3168904bd42ebb12bf981327de99179f', #--> Facebook Watch for Samsung TV\n",
    "            ]\n",
    "        for x in app_id:\n",
    "            self.get_kode(x)\n",
    "        # self.accessToken = self.get_kode(app_id[0])\n",
    "    def get_kode(self,act):\n",
    "        data = {\n",
    "            'access_token': act,\n",
    "            'scope': ''}\n",
    "        req  = self.xyz.post('https://graph.facebook.com/v16.0/device/login/',data=data).json()\n",
    "        try:\n",
    "            cd, ucd = req['code'], req['user_code']\n",
    "            url = 'https://graph.facebook.com/v16.0/device/login_status?method=post&code=%s&access_token=%s'%(cd,act)\n",
    "            self.verify1(ucd,act)\n",
    "            access_token = self.get_token(url)\n",
    "            # return access_token\n",
    "            print(access_token)\n",
    "        except Exception as e:\n",
    "\n",
    "            print('Login Gagal --> %s'%(act))\n",
    "    def verify1(self,ucd,act):\n",
    "        req = bs(self.xyz.get('https://mbasic.facebook.com/device',cookies=self.cookie).content,'html.parser')\n",
    "        raq = req.find('form',{'method':'post'})\n",
    "        dat = {\n",
    "            'jazoest'   : re.search('name=\"jazoest\" type=\"hidden\" value=\"(.*?)\"',str(raq)).group(1),\n",
    "            'fb_dtsg'   : re.search('name=\"fb_dtsg\" type=\"hidden\" value=\"(.*?)\"',str(req)).group(1),\n",
    "            'qr'        : '0',\n",
    "            'user_code' : ucd}\n",
    "        rel = 'https://mbasic.facebook.com' + raq['action']\n",
    "        pos = bs(self.xyz.post(rel,data=dat,cookies=self.cookie).content,'html.parser')\n",
    "        self.verify2(pos,ucd,act)\n",
    "    def verify2(self,req,ucd,act):\n",
    "        dat = {}\n",
    "        raq = req.find('form',{'method':'post'})\n",
    "        for x in raq('input',{'value':True}):\n",
    "            try:\n",
    "                if x['name'] == '__CANCEL__' :\n",
    "                    pass\n",
    "                else:\n",
    "                    dat.update({x['name']:x['value']})\n",
    "            except Exception as e:\n",
    "                pass\n",
    "        rel = 'https://mbasic.facebook.com' + raq['action']\n",
    "        pos = bs(self.xyz.post(rel,data=dat,cookie=self.cookie).content,'html.parser')\n",
    "        if 'Sukses!' in str(pos):\n",
    "            pass\n",
    "        else:\n",
    "            print('Login Gagal --> %s'%(act))\n",
    "    def get_token(self,url):\n",
    "        req = self.xyz.get(url,cookies=self.cookie).json()\n",
    "        access_token = req['access_token']\n",
    "        return access_token"
   ]
  },
  {
   "cell_type": "code",
   "execution_count": 57,
   "outputs": [
    {
     "name": "stdout",
     "output_type": "stream",
     "text": [
      "Login Gagal --> 1348564698517390|007c0a9101b9e1c8ffab727666805038\n",
      "Login Gagal --> 1174099472704185|0722a7d5b5a4ac06b11450f7114eb2e9\n",
      "Login Gagal --> 155327495133707|a151725bc9b8808a800f4c891505e558\n",
      "Login Gagal --> 1331685116912965|e334a1eca4d4ea9ac0c0132a31730663\n",
      "Login Gagal --> 867777633323150|446fdcd4a3704f64e5f6e5fd12d35d01\n",
      "Login Gagal --> 437340816620806|04a36c2558cde98e185d7f4f701e4d94\n",
      "Login Gagal --> 661587963994814|ffe07cc864fd1dc8fe386229dcb7a05e\n",
      "Login Gagal --> 1692575501067666|3168904bd42ebb12bf981327de99179f\n",
      "Login Gagal --> 1348564698517390|007c0a9101b9e1c8ffab727666805038\n"
     ]
    }
   ],
   "source": [
    "cookies = \"sb=ttpvZI7d9xfsOc9zFyV0vW4l; datr=vqKBZLbu4PGRjrXWlkKH0_w4; c_user=100013323961498; m_page_voice=100013323961498; usida=eyJ2ZXIiOjEsImlkIjoiQXJ3Ym1vYTF4eW92OXMiLCJ0aW1lIjoxNjg2ODc3MDY2fQ%3D%3D; xs=47%3APwPMsmfVxU3_fA%3A2%3A1686238466%3A-1%3A6253%3A%3AAcWnLDRe0bruqIL4KJnGH4tRHKjpEZL_GubSuATA8Pg; fr=06ddF7aP3jU6AJqdP.AWWi7FcUWXkaieCZLFYkSuqpGYU.Bki7pA.do.AAA.0.0.Bki7pA.AWUCP18MHLM; presence=C%7B%22lm3%22%3A%22u.100010013526023%22%2C%22t3%22%3A%5B%5D%2C%22utc3%22%3A1686878817073%2C%22v%22%3A1%7D; wd=852x947\"\n",
    "\n",
    "pre_accessToken = Token(cookies)\n",
    "accessToken = pre_accessToken.get_kode('1348564698517390|007c0a9101b9e1c8ffab727666805038')\n",
    "accessToken"
   ],
   "metadata": {
    "collapsed": false,
    "ExecuteTime": {
     "end_time": "2023-06-16T02:13:49.683779300Z",
     "start_time": "2023-06-16T02:13:33.986884700Z"
    }
   }
  },
  {
   "cell_type": "code",
   "execution_count": 46,
   "outputs": [],
   "source": [
    "def getStoryIDFromPostID(cookie, post_id):\n",
    "  cookie_raw = {'cookie':cookie}\n",
    "  with requests.Session() as ses:\n",
    "    response = ses.get(f'https://www.facebook.com/{post_id}', cookies=cookie_raw, timeout=5)\n",
    "    print(response.url)\n",
    "    story_id_match = re.search(r'\"storyID\":\"([^\"]+)\"', response.text)\n",
    "    if story_id_match:\n",
    "        story_id = story_id_match.group(1)\n",
    "        print(story_id)\n",
    "    else:\n",
    "        print(\"Không tìm thấy storyID trong đoạn mã.\")"
   ],
   "metadata": {
    "collapsed": false,
    "ExecuteTime": {
     "end_time": "2023-06-16T01:01:59.620961900Z",
     "start_time": "2023-06-16T01:01:59.617311Z"
    }
   }
  },
  {
   "cell_type": "code",
   "execution_count": 47,
   "outputs": [],
   "source": [
    "def removePost(cookies, storyID):\n",
    "  cookies = {'cookie':cookies}\n",
    "  headers = {\n",
    "    'authority': 'www.facebook.com',\n",
    "    'accept': '*/*',\n",
    "    'accept-language': 'en-US,en;q=0.9',\n",
    "    'content-type': 'application/x-www-form-urlencoded',\n",
    "    'origin': 'https://www.facebook.com',\n",
    "    'referer': 'https://www.facebook.com',\n",
    "    'sec-ch-prefers-color-scheme': 'light',\n",
    "    'sec-ch-ua': '\"Chromium\";v=\"103\", \".Not/A)Brand\";v=\"99\"',\n",
    "    'sec-ch-ua-full-version-list': '\"Chromium\";v=\"103.0.5060.134\", \".Not/A)Brand\";v=\"99.0.0.0\"',\n",
    "    'sec-ch-ua-mobile': '?0',\n",
    "    'sec-ch-ua-platform': '\"Windows\"',\n",
    "    'sec-ch-ua-platform-version': '\"10.0.0\"',\n",
    "    'sec-fetch-dest': 'empty',\n",
    "    'sec-fetch-mode': 'cors',\n",
    "    'sec-fetch-site': 'same-origin',\n",
    "    'user-agent': 'Mozilla/5.0 (Windows NT 10.0; Win64; x64) AppleWebKit/537.36 (KHTML, like Gecko) Chrome/103.0.5060.134 Safari/537.36',\n",
    "    'viewport-width': '1132',\n",
    "    'x-asbd-id': '129477',\n",
    "    'x-fb-friendly-name': 'useCometTrashPostMutation',\n",
    "    'x-fb-lsd': 'paVhHmefIHy5g8EsbMvA1c',\n",
    "  }\n",
    "\n",
    "  data = {\n",
    "      'av': '100013323961498',\n",
    "      # '__user': '100013323961498',\n",
    "      '__a': '1',\n",
    "      '__comet_req': '15',\n",
    "      'fb_dtsg': 'NAcNjlCNYEycuxgvM9Y_oIQiefrZUZs_Ova9c0kad2JfZnf-8phwCZw:47:1686238466',\n",
    "      # 'jazoest': '25358',\n",
    "      # 'lsd': 'paVhHmefIHy5g8EsbMvA1c',\n",
    "      'fb_api_caller_class': 'RelayModern',\n",
    "      'fb_api_req_friendly_name': 'useCometTrashPostMutation',\n",
    "      'variables': '{\"input\":{\"story_id\":\"'+storyID+'\",\"story_location\":\"TIMELINE\",\"actor_id\":\"100013323961498\",\"client_mutation_id\":\"1\"}}',\n",
    "      'server_timestamps': 'true',\n",
    "      'doc_id': '7003056599769350',\n",
    "  }\n",
    "  with requests.Session() as ses:\n",
    "    response = ses.post('https://www.facebook.com/api/graphql/', cookies=cookies, headers=headers, data=data)\n",
    "    print(response.text)"
   ],
   "metadata": {
    "collapsed": false,
    "ExecuteTime": {
     "end_time": "2023-06-16T01:01:59.637713300Z",
     "start_time": "2023-06-16T01:01:59.623954200Z"
    }
   }
  },
  {
   "cell_type": "code",
   "execution_count": 48,
   "outputs": [],
   "source": [
    "def getPosts(list_ids_queue):\n",
    "\n",
    "  cookies = {\n",
    "      'sb': 'ttpvZI7d9xfsOc9zFyV0vW4l',\n",
    "      'datr': 'vqKBZLbu4PGRjrXWlkKH0_w4',\n",
    "      'c_user': '100013323961498',\n",
    "      'm_page_voice': '100013323961498',\n",
    "      'xs': '47%3APwPMsmfVxU3_fA%3A2%3A1686238466%3A-1%3A6253%3A%3AAcXK5shdIp5NAJ-j84UxQQ-L-DR-6Gs1lh48clCQX9o',\n",
    "      'wd': '1920x947',\n",
    "      'usida': 'eyJ2ZXIiOjEsImlkIjoiQXJ3OXE4OTEweXo4NDYiLCJ0aW1lIjoxNjg2NzkwMTQ4fQ%3D%3D',\n",
    "      'fr': '0RjbPFmjfeRYwWKQa.AWXISH9zucf1vGYeFd57-OnpMo4.Bkil3B.do.AAA.0.0.BkimAG.AWV-yg01pKk',\n",
    "      'presence': 'C%7B%22t3%22%3A%5B%7B%22i%22%3A%22u.100018318542484%22%7D%5D%2C%22utc3%22%3A1686790428117%2C%22v%22%3A1%7D',\n",
    "  }\n",
    "\n",
    "  headers = {\n",
    "      'authority': 'graph.facebook.com',\n",
    "      'accept': 'text/html,application/xhtml+xml,application/xml;q=0.9,image/avif,image/webp,image/apng,*/*;q=0.8,application/signed-exchange;v=b3;q=0.7',\n",
    "      'accept-language': 'en-US,en;q=0.9,vi;q=0.8',\n",
    "      'cache-control': 'max-age=0',\n",
    "      'sec-ch-ua': '\"Not.A/Brand\";v=\"8\", \"Chromium\";v=\"114\", \"Google Chrome\";v=\"114\"',\n",
    "      'sec-ch-ua-mobile': '?0',\n",
    "      'sec-ch-ua-platform': '\"Windows\"',\n",
    "      'sec-fetch-dest': 'document',\n",
    "      'sec-fetch-mode': 'navigate',\n",
    "      'sec-fetch-site': 'none',\n",
    "      'sec-fetch-user': '?1',\n",
    "      'upgrade-insecure-requests': '1',\n",
    "      'user-agent': 'Mozilla/5.0 (Windows NT 10.0; Win64; x64) AppleWebKit/537.36 (KHTML, like Gecko) Chrome/114.0.0.0 Safari/537.36',\n",
    "  }\n",
    "\n",
    "  params = {\n",
    "      'limit': '100',\n",
    "      'access_token': 'EAAGPwr8GD2cBAL6XylMTxaLGKB2e1ZCYyYtppctbTYpwQOTuyGeTfXbf3v12deSyt8tyhh6zZCftC28bEZCY7OZByO3VvKtthHP0IYzK35oYbCL2pA0TiZCrZBD1W5JrU21d06JZA3MxdIybWAGUGGD2w0EpiZBZBTbGSG0lkHSzl7ZCbJw4zK8u2R0cEfsHsxI4PQjkDAJAcCSwZDZD',\n",
    "  }\n",
    "  response = requests.get('https://graph.facebook.com/v16.0/me/feed', params=params, cookies=cookies, headers=headers)\n",
    "  try:\n",
    "    resp = response.json()\n",
    "    pre_list = list(map(lambda data : data['id'].split(\"_\")[1], resp['data']))\n",
    "    _ = list(map(list_ids_queue.put,pre_list))\n",
    "    while True:\n",
    "      if(resp['paging'] and resp['paging']['next']):\n",
    "        response = requests.get(resp['paging']['next'], cookies=cookies, headers=headers)\n",
    "        resp = response.json()\n",
    "        pre_list = list(map(lambda data : data['id'].split(\"_\")[1], resp['data']))\n",
    "        _ = list(map(list_ids_queue.put,pre_list))\n",
    "      else:\n",
    "        break\n",
    "  except Exception as e :\n",
    "    print(e)"
   ],
   "metadata": {
    "collapsed": false,
    "ExecuteTime": {
     "end_time": "2023-06-16T01:01:59.638711300Z",
     "start_time": "2023-06-16T01:01:59.628301600Z"
    }
   }
  },
  {
   "cell_type": "code",
   "execution_count": 49,
   "outputs": [
    {
     "name": "stdout",
     "output_type": "stream",
     "text": [
      "'paging'\n"
     ]
    }
   ],
   "source": [
    "list_ids_queue = Queue()\n",
    "getPosts(list_ids_queue)"
   ],
   "metadata": {
    "collapsed": false,
    "ExecuteTime": {
     "end_time": "2023-06-16T01:02:08.881767900Z",
     "start_time": "2023-06-16T01:01:59.635719600Z"
    }
   }
  },
  {
   "cell_type": "code",
   "execution_count": 50,
   "outputs": [
    {
     "data": {
      "text/plain": "['1765347210586061',\n '1742533729534076',\n '1717361968717919',\n '1568357650285019',\n '1690403278080455',\n '1675742806213169',\n '1623346834786100',\n '1616111178842999',\n '1615360672251383',\n '1607966739657443',\n '5939258896119298',\n '1590579408062843',\n '1590041154783335',\n '1585231438597640',\n '1567675870353197',\n '1559436217843829',\n '1554188695035248',\n '1537124973408287',\n '1534360117018106',\n '1529295697524548',\n '1528136700973781',\n '1524036201383831',\n '1523052414815543',\n '1522157778238340',\n '1517002262087225',\n '1515453888908729',\n '1511555472631904',\n '1509895466131238',\n '1509803436140441',\n '1509247799529338',\n '1509245549529563',\n '1507266893060762',\n '1506640829790035',\n '1504964469957671',\n '1504864173301034',\n '1503542456766539',\n '1502457946874990',\n '1502027066918078',\n '1493627787758006',\n '1485966105190841',\n '1482708638849921',\n '1480183662435752',\n '1477597082694410',\n '1472430776544374',\n '1910260672496120',\n '1464210020699783',\n '1452829561837829',\n '1452329185221200',\n '1451763208611131',\n '1448011768986275',\n '1446521955801923',\n '1443881386065980',\n '1441241202996665',\n '1438155973305188',\n '1437772396676879',\n '1437131433407642',\n '1435110236943095',\n '1435109906943128',\n '1433521247101994',\n '1433099040477548',\n '1382158672238252',\n '1382158355571617',\n '1381817565605696',\n '1339015739885879',\n '1336257140161739',\n '1335544043566382',\n '1332861133834673',\n '1332809560506497',\n '1314749145645872',\n '1308558536264933',\n '1308558446264942',\n '1302768216843965',\n '1252341158553338',\n '1260649687722485',\n '1260492917738162',\n '1259722284481892',\n '1255656978221756',\n '1251745981946189',\n '1236113660176088',\n '1233670097087111',\n '1230572270730227',\n '1229767580810696',\n '1228940220893432',\n '1228049884315799',\n '1227434761043978',\n '1227212697732851',\n '1226179577836163',\n '1224570291330425',\n '1224070714713716',\n '1223963294724458',\n '1221960651591389',\n '1211904039263717',\n '1211446595976128',\n '1211140516006736',\n '1210531242734330',\n '1187470268373761',\n '1184299218690866',\n '1090216818099107',\n '1168972036890251',\n '1167196437067811',\n '1166961453757976',\n '1161118904342231',\n '1160911634362958',\n '1157491031371685',\n '1157138378073617',\n '1156851538102301',\n '1156578494796272',\n '1156523781468410',\n '1156239164830205',\n '1156177474836374',\n '1155837334870388',\n '1154952268292228',\n '1151551065299015',\n '1151546008632854',\n '1145214879265967',\n '1090216818099107',\n '1141571546296967',\n '1140882009699254',\n '1126189274501861',\n '1126184627835659',\n '1126083211179134',\n '1126060611181394',\n '1126022257851896',\n '1125825877871534',\n '1090216818099107',\n '1109971019457020',\n '1108160912971364',\n '1107374116383377',\n '1106019156518873',\n '1105777926542996',\n '1104710026649786',\n '1104525893334866',\n '1104438876676901',\n '1103947993392656',\n '1099982977122491',\n '1099836440470478',\n '1099278187192970',\n '1092199717900817',\n '1083158802138242',\n '1082507028870086',\n '1082173532236769',\n '1081843448936444',\n '1081744202279702',\n '1081150742339048',\n '1081106589010130',\n '1079317809189008',\n '1078148759305913',\n '1078140925973363',\n '1078137009307088',\n '1078133552640767',\n '1078132069307582',\n '1078073985980057',\n '1075048556282600',\n '1074657149655074',\n '1073754533078669',\n '1073527043101418',\n '1072652113188911',\n '1071078600012929',\n '1070795556707900',\n '1070442560076533',\n '1069950613459061',\n '1069708920149897',\n '1069025896884866',\n '1068737483580374',\n '1067851413668981',\n '1066168257170630',\n '1056219634832159']"
     },
     "execution_count": 50,
     "metadata": {},
     "output_type": "execute_result"
    }
   ],
   "source": [
    "list_ids_queue.qsize()\n",
    "list(list_ids_queue.queue)"
   ],
   "metadata": {
    "collapsed": false,
    "ExecuteTime": {
     "end_time": "2023-06-16T01:02:08.888210500Z",
     "start_time": "2023-06-16T01:02:08.882753900Z"
    }
   }
  },
  {
   "cell_type": "code",
   "execution_count": 53,
   "outputs": [
    {
     "data": {
      "text/plain": "167"
     },
     "execution_count": 53,
     "metadata": {},
     "output_type": "execute_result"
    }
   ],
   "source": [
    "list_ids_queue.qsize()"
   ],
   "metadata": {
    "collapsed": false,
    "ExecuteTime": {
     "end_time": "2023-06-16T01:02:23.593925700Z",
     "start_time": "2023-06-16T01:02:23.586885600Z"
    }
   }
  },
  {
   "cell_type": "code",
   "execution_count": 51,
   "outputs": [],
   "source": [
    "def getPostIDFromUrl(cookies = \"None\", urls = \"None\"):\n",
    "  cookies = {\n",
    "      'sb': 'ttpvZI7d9xfsOc9zFyV0vW4l',\n",
    "      'datr': 'vqKBZLbu4PGRjrXWlkKH0_w4',\n",
    "      'c_user': '100013323961498',\n",
    "      'm_page_voice': '100013323961498',\n",
    "      'xs': '47%3APwPMsmfVxU3_fA%3A2%3A1686238466%3A-1%3A6253%3A%3AAcXrNMSiiyg7QWNGeVbjMY8-moxrIsCiSC4yKwOKjgI',\n",
    "      'fr': '0kouh4jJbBhbiXEDl.AWXB1jjJBwipkjkcJ0BbfQTfKp8.Bki6iC.do.AAA.0.0.Bki6iC.AWXcgHUmumg',\n",
    "      'presence': 'C%7B%22t3%22%3A%5B%5D%2C%22utc3%22%3A1686876576240%2C%22v%22%3A1%7D',\n",
    "      'wd': '852x947',\n",
    "  }\n",
    "\n",
    "  headers = {\n",
    "      'authority': 'www.facebook.com',\n",
    "      'accept': 'text/html,application/xhtml+xml,application/xml;q=0.9,image/avif,image/webp,image/apng,*/*;q=0.8,application/signed-exchange;v=b3;q=0.7',\n",
    "      'accept-language': 'en-US,en;q=0.9,vi;q=0.8',\n",
    "      'cache-control': 'max-age=0',\n",
    "      'sec-ch-prefers-color-scheme': 'light',\n",
    "      'sec-ch-ua': '\"Not.A/Brand\";v=\"8\", \"Chromium\";v=\"114\", \"Google Chrome\";v=\"114\"',\n",
    "      'sec-ch-ua-full-version-list': '\"Not.A/Brand\";v=\"8.0.0.0\", \"Chromium\";v=\"114.0.5735.134\", \"Google Chrome\";v=\"114.0.5735.134\"',\n",
    "      'sec-ch-ua-mobile': '?0',\n",
    "      'sec-ch-ua-platform': '\"Windows\"',\n",
    "      'sec-ch-ua-platform-version': '\"10.0.0\"',\n",
    "      'sec-fetch-dest': 'document',\n",
    "      'sec-fetch-mode': 'navigate',\n",
    "      'sec-fetch-site': 'same-origin',\n",
    "      'sec-fetch-user': '?1',\n",
    "      'upgrade-insecure-requests': '1',\n",
    "      'user-agent': 'Mozilla/5.0 (Windows NT 10.0; Win64; x64) AppleWebKit/537.36 (KHTML, like Gecko) Chrome/114.0.0.0 Safari/537.36',\n",
    "      'viewport-width': '852',\n",
    "  }\n",
    "\n",
    "  response = requests.get(\n",
    "      'https://www.facebook.com/truongnhudatt/posts/pfbid0gL2GJ8BMqcj2FEEtsUaaMy5AFMeN8mEbjhR5h95GLUo15s3nNtXaMvGsKky1jS6Bl',\n",
    "      cookies=cookies,\n",
    "      headers=headers,\n",
    "  )\n",
    "  post_id_match = re.search(r'\"post_id\":\"(\\d+)\"', response.text)\n",
    "  if post_id_match:\n",
    "      post_id = post_id_match.group(1)\n",
    "      print(post_id)\n",
    "  else:\n",
    "      print(\"Không tìm thấy post_id trong đoạn mã.\")\n"
   ],
   "metadata": {
    "collapsed": false,
    "ExecuteTime": {
     "end_time": "2023-06-16T01:02:08.893124300Z",
     "start_time": "2023-06-16T01:02:08.890209600Z"
    }
   }
  },
  {
   "cell_type": "code",
   "execution_count": 52,
   "outputs": [
    {
     "name": "stdout",
     "output_type": "stream",
     "text": [
      "1742533729534076\n"
     ]
    }
   ],
   "source": [
    "getPostIDFromUrl()"
   ],
   "metadata": {
    "collapsed": false,
    "ExecuteTime": {
     "end_time": "2023-06-16T01:02:11.607279700Z",
     "start_time": "2023-06-16T01:02:08.894122600Z"
    }
   }
  },
  {
   "cell_type": "code",
   "execution_count": null,
   "outputs": [],
   "source": [],
   "metadata": {
    "collapsed": false
   }
  }
 ],
 "metadata": {
  "kernelspec": {
   "display_name": "Python 3",
   "language": "python",
   "name": "python3"
  },
  "language_info": {
   "codemirror_mode": {
    "name": "ipython",
    "version": 2
   },
   "file_extension": ".py",
   "mimetype": "text/x-python",
   "name": "python",
   "nbconvert_exporter": "python",
   "pygments_lexer": "ipython2",
   "version": "2.7.6"
  }
 },
 "nbformat": 4,
 "nbformat_minor": 0
}
