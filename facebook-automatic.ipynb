{
 "cells": [
  {
   "cell_type": "code",
   "execution_count": 1,
   "metadata": {
    "collapsed": true,
    "ExecuteTime": {
     "end_time": "2023-06-23T02:05:29.813868600Z",
     "start_time": "2023-06-23T02:05:29.711818100Z"
    }
   },
   "outputs": [],
   "source": [
    "from selenium import  webdriver\n",
    "from time import sleep"
   ]
  },
  {
   "cell_type": "code",
   "execution_count": 2,
   "outputs": [],
   "source": [
    "driver = webdriver.Chrome()\n"
   ],
   "metadata": {
    "collapsed": false,
    "ExecuteTime": {
     "end_time": "2023-06-23T02:05:30.879602700Z",
     "start_time": "2023-06-23T02:05:29.814863800Z"
    }
   }
  },
  {
   "cell_type": "code",
   "execution_count": 3,
   "outputs": [],
   "source": [
    "def parseCookieRaw(cookies: str):\n",
    "    result = dict()\n",
    "    cookiesArr = cookies.split(\";\")\n",
    "    cookiesArr = [cookieItem.strip() for cookieItem in cookiesArr]\n",
    "    for cookieItem in cookiesArr:\n",
    "        cookieItemArr = cookieItem.split(\"=\")\n",
    "        result[cookieItemArr[0]] = cookieItemArr[1]\n",
    "    return result\n"
   ],
   "metadata": {
    "collapsed": false,
    "ExecuteTime": {
     "end_time": "2023-06-23T02:05:30.899309500Z",
     "start_time": "2023-06-23T02:05:30.882352700Z"
    }
   }
  },
  {
   "cell_type": "code",
   "execution_count": 4,
   "outputs": [],
   "source": [
    "driver.get(\"https://mbasic.facebook.com\")"
   ],
   "metadata": {
    "collapsed": false,
    "ExecuteTime": {
     "end_time": "2023-06-23T02:05:31.487934500Z",
     "start_time": "2023-06-23T02:05:30.899309500Z"
    }
   }
  },
  {
   "cell_type": "code",
   "execution_count": 5,
   "outputs": [],
   "source": [
    "cookie_raw = \"sb=C0qQZAakpkZgucePDfBHWwuF; datr=C0qQZBznZcz0JGkLHPDH-b4_; locale=vi_VN; c_user=100060806162073; xs=12%3A1JnheY7OtTmIwA%3A2%3A1687177760%3A-1%3A6274; fr=0yamHeC6zeUMk2NVj.AWVkqsq6c3k08vWCsMyeTGGprJo.BkkEoL.yg.AAA.0.0.BkkEoi.AWXIAjSatvM; wd=1078x979\"\n",
    "cookies = parseCookieRaw(cookie_raw)"
   ],
   "metadata": {
    "collapsed": false,
    "ExecuteTime": {
     "end_time": "2023-06-23T02:05:31.491785200Z",
     "start_time": "2023-06-23T02:05:31.489929600Z"
    }
   }
  },
  {
   "cell_type": "code",
   "execution_count": 6,
   "outputs": [],
   "source": [
    "for key,value in cookies.items():\n",
    "  driver.add_cookie({\"name\": key, \"value\": value, \"domain\": \".facebook.com\"})\n",
    "driver.refresh()"
   ],
   "metadata": {
    "collapsed": false,
    "ExecuteTime": {
     "end_time": "2023-06-23T02:05:37.055743300Z",
     "start_time": "2023-06-23T02:05:31.492781700Z"
    }
   }
  },
  {
   "cell_type": "code",
   "execution_count": 15,
   "outputs": [
    {
     "ename": "IndentationError",
     "evalue": "expected an indented block after 'try' statement on line 10 (2843104007.py, line 11)",
     "output_type": "error",
     "traceback": [
      "\u001B[1;36m  Cell \u001B[1;32mIn[15], line 11\u001B[1;36m\u001B[0m\n\u001B[1;33m    else:\u001B[0m\n\u001B[1;37m    ^\u001B[0m\n\u001B[1;31mIndentationError\u001B[0m\u001B[1;31m:\u001B[0m expected an indented block after 'try' statement on line 10\n"
     ]
    }
   ],
   "source": [
    "driver.get(\"https://mbasic.facebook.com/messages\")\n",
    "script_get_link_delete = '''\n",
    "var section = document.querySelector('section');\n",
    "var table = section.querySelector('table');\n",
    "var a = table.querySelector(\"a\");\n",
    "var href = a.href;\n",
    "return href;\n",
    "'''\n",
    "while 1:\n",
    "    try:\n",
    "        result = driver.execute_script(script_get_link_delete)\n",
    "        if result is not None:\n",
    "            driver.get(result)\n",
    "            btn_delete = driver.find_element(\"name\", \"delete\")\n",
    "            if btn_delete:\n",
    "                btn_delete.click()\n",
    "                script_delete = '''\n",
    "                var elements = document.getElementById('root').querySelectorAll('a');\n",
    "                var hrefs = [];\n",
    "                elements.forEach(function(a) {\n",
    "                    hrefs.push(a.href);\n",
    "                });\n",
    "                return hrefs;\n",
    "                '''\n",
    "                hrefs = driver.execute_script(script_delete)\n",
    "                if len(hrefs) == 2:\n",
    "                    driver.get(hrefs[-1])\n",
    "    except Exception as e:\n",
    "        print(e)\n",
    "        break\n",
    "    else:\n",
    "        break\n",
    "# script_get_link_delete = '''\n",
    "# var section = document.querySelector('section');\n",
    "# var tables = section.querySelectorAll('table');\n",
    "# var hrefs = [];\n",
    "#\n",
    "# tables.forEach(function(table) {\n",
    "#     var link = table.querySelector('a');\n",
    "#     if (link) {\n",
    "#         hrefs.push(link.href);\n",
    "#     }\n",
    "# });\n",
    "#\n",
    "# return hrefs;\n",
    "# '''"
   ],
   "metadata": {
    "collapsed": false,
    "ExecuteTime": {
     "end_time": "2023-06-23T02:23:21.897926400Z",
     "start_time": "2023-06-23T02:23:21.883653900Z"
    }
   }
  },
  {
   "cell_type": "code",
   "execution_count": 10,
   "outputs": [],
   "source": [
    "result = driver.execute_script(script_get_link_delete)\n",
    "print(result)\n",
    "driver.execute_script(\"window.open();\")\n",
    "driver.switch_to.window(driver.window_handles[-1])"
   ],
   "metadata": {
    "collapsed": false,
    "ExecuteTime": {
     "end_time": "2023-06-23T02:05:38.825878800Z",
     "start_time": "2023-06-23T02:05:38.764227900Z"
    }
   }
  },
  {
   "cell_type": "code",
   "execution_count": 11,
   "outputs": [
    {
     "name": "stdout",
     "output_type": "stream",
     "text": [
      "['https://mbasic.facebook.com/messages/read/?tid=cid.c.100022547224986%3A100060806162073&eav=AfYFfsiz96EfFGY8lXuidaRkgVIRh7jy72PySAjon0m2NxzMJVdis_xpKs_TM-SxNHI&paipv=0', 'https://mbasic.facebook.com/messages/action/?mm_action=delete&tids=cid.c.100022547224986%3A100060806162073&eav=AfYyoMR3wRRQqc0f2RSp4ZlEwilTgIQbDBxYzbryIfSAD9dUdBuAflNkGhCAdi0QnaQ&gfid=AQCcn24DAGBI91Yl4D8&paipv=0']\n",
      "['https://mbasic.facebook.com/messages/read/?tid=cid.c.100060806162073%3A415259789045862&eav=AfakLhMSuO-jzu4eXKDR7jytQPWVvwyaYkGBaUdXp0zqkoPcQ6YVK5R7wQpXGBYz1W8&paipv=0', 'https://mbasic.facebook.com/messages/action/?mm_action=delete&tids=cid.c.100060806162073%3A415259789045862&eav=AfY_7A--s2wajor4cLPzAxmuy-qX57cdI8bZLpmpqU5yUdEhTQ6BmTuEkyEBwMuq-kQ&gfid=AQBPCC6AXxKHA52TGyM&paipv=0']\n",
      "['https://mbasic.facebook.com/messages/read/?tid=cid.c.100060806162073%3A1031493483659708&eav=AfbUF_S3qmLKRopIFpB0jhzH8r7-2_bvbGaLCHwol2dPT-IfLijnCVM1FwUhyb-7JuU&paipv=0', 'https://mbasic.facebook.com/messages/action/?mm_action=delete&tids=cid.c.100060806162073%3A1031493483659708&eav=AfZFWq7h5t3wLYPte_HlOvGdAKhB3tXPxuWeohITAxalTxkt6VfwU8j9h30RWPAWbbQ&gfid=AQC1b9jd4vQ4FRZ9zv8&paipv=0']\n",
      "['https://mbasic.facebook.com/messages/read/?tid=cid.c.100060806162073%3A101784385637797&eav=AfbPBzNdIFtc1MoKmblHSVRt0oQRdbGkvbUAa-DKfcwy_4LYNCBidhIBplM7bBHHsdk&paipv=0', 'https://mbasic.facebook.com/messages/action/?mm_action=delete&tids=cid.c.100060806162073%3A101784385637797&eav=AfZz_JM0w_cNKnbVYmUTAr9n9soWMZyUnyXMi8rTOjc5X342QDVnl7TOWn_FvP4g-9M&gfid=AQDgtwjKngKkX6-KYq8&paipv=0']\n",
      "['https://mbasic.facebook.com/messages/read/?tid=cid.c.100060806162073%3A102463795596482&eav=AfZI9yrP70OlW2ngZBuJadigzjNBvy6uNsozNnCQtFXnCQbcSHhRtRITycR-5Ft1DQw&paipv=0', 'https://mbasic.facebook.com/messages/action/?mm_action=delete&tids=cid.c.100060806162073%3A102463795596482&eav=AfaGXTZSxu9jszTQQaW68Su8kdrWvcPT8JnVP3uazHEC6Jbcn00n_0haUSWXVhYCcf0&gfid=AQB-ZGuBjxbcvcWAR-8&paipv=0']\n",
      "['https://mbasic.facebook.com/messages/read/?tid=cid.c.100060806162073%3A2077733978960068&eav=AfaIt8WMuKsA98dSemQi8eG5AF7h3vMhiJ1JkqqLhyWa7l7Kko9SACW2pKoD4fPtABI&paipv=0', 'https://mbasic.facebook.com/messages/action/?mm_action=delete&tids=cid.c.100060806162073%3A2077733978960068&eav=Afa9PuRnZZDTKXQovBhzUhTZ4X7twfQE65sztuDW7QBKeuBSal02BltGRix9_cu37Wc&gfid=AQAiMXUmz_pvUoeHk0w&paipv=0']\n",
      "['https://mbasic.facebook.com/messages/read/?tid=cid.c.100060806162073%3A103164635689555&eav=AfYG7UcjTt2WGSNotMD_D1nFN2HLfYvbYtE4vFvCZU7Hy0RhKJufAr2uabbyJl-Eako&paipv=0', 'https://mbasic.facebook.com/messages/action/?mm_action=delete&tids=cid.c.100060806162073%3A103164635689555&eav=AfYpdCYQ1dcMycJlWJIA8CZkhxhCXbQHpLC4ZN9izkoD3TN0qf8ZSjbuplkrQz4v4dw&gfid=AQCmxIgN_YdI5rdiN44&paipv=0']\n",
      "['https://mbasic.facebook.com/messages/read/?tid=cid.c.100007893043526%3A100060806162073&eav=AfZlG2rlZ-gMSPdUIeY64h9vCenzMRg_1JcYlwyk0-wiivMCoEoxmAITgEXnD87H_fU&paipv=0', 'https://mbasic.facebook.com/messages/action/?mm_action=delete&tids=cid.c.100007893043526%3A100060806162073&eav=AfaQiXfee0Ca0NDJHSJBsXIdeM1hMZ8kcTRzpfbavOoonOHvC4Du_Q4I09gL2lL0d44&gfid=AQBEZMdGW1OOtdTaazY&paipv=0']\n",
      "['https://mbasic.facebook.com/messages/read/?tid=cid.c.100060806162073%3A101178785415473&eav=AfaXxjtChi7hU9BIx9u4oafITd_NBRRyTOQuVErDYB7lcASWnq9e2ZgFG8ZyOxT8kjM&paipv=0', 'https://mbasic.facebook.com/messages/action/?mm_action=delete&tids=cid.c.100060806162073%3A101178785415473&eav=AfbYFQ0wryo3TYwLcn2KnR9PFdYOp2COanXhyWK7fO6bPLd4woncaX9vFZWB7apbmKQ&gfid=AQDQ-VWPGAW40m5Zsw4&paipv=0']\n",
      "['https://mbasic.facebook.com/messages/read/?tid=cid.c.100060806162073%3A1959820204058610&eav=AfbSCUQEAezQ-2ZHasWloYG2dYa6qLqZhE47b3idvnxfrJKvkorhRElAfKbzzVm3S94&paipv=0', 'https://mbasic.facebook.com/messages/action/?mm_action=delete&tids=cid.c.100060806162073%3A1959820204058610&eav=AfYOvdthrVAolOLCkDfmLWfdTPx8N9pXBq_jtwO8u-vwkyz7SaZsmAWYvjnLLhb1cX4&gfid=AQC819Cpct0t65iRQrg&paipv=0']\n"
     ]
    }
   ],
   "source": [
    "while len(result) > 0:\n",
    "    driver.get(result[0])\n",
    "    btn_delete = driver.find_element(\"name\", \"delete\")\n",
    "    if btn_delete:\n",
    "        btn_delete.click()\n",
    "        script_delete = '''\n",
    "        var elements = document.getElementById('root').querySelectorAll('a');\n",
    "        var hrefs = [];\n",
    "\n",
    "        elements.forEach(function(a) {\n",
    "            hrefs.push(a.href);\n",
    "        });\n",
    "\n",
    "        return hrefs;\n",
    "        '''\n",
    "\n",
    "        hrefs = driver.execute_script(script_delete)\n",
    "        print(hrefs)\n",
    "        if len(hrefs) == 2:\n",
    "            driver.get(hrefs[-1])\n",
    "            result.pop(0)"
   ],
   "metadata": {
    "collapsed": false,
    "ExecuteTime": {
     "end_time": "2023-06-23T02:06:32.486931400Z",
     "start_time": "2023-06-23T02:05:38.792966600Z"
    }
   }
  },
  {
   "cell_type": "code",
   "execution_count": 11,
   "outputs": [],
   "source": [],
   "metadata": {
    "collapsed": false,
    "ExecuteTime": {
     "end_time": "2023-06-23T02:06:32.489465700Z",
     "start_time": "2023-06-23T02:06:32.487962500Z"
    }
   }
  },
  {
   "cell_type": "code",
   "execution_count": 11,
   "outputs": [],
   "source": [],
   "metadata": {
    "collapsed": false,
    "ExecuteTime": {
     "end_time": "2023-06-23T02:06:32.492397100Z",
     "start_time": "2023-06-23T02:06:32.490888700Z"
    }
   }
  },
  {
   "cell_type": "code",
   "execution_count": 11,
   "outputs": [],
   "source": [],
   "metadata": {
    "collapsed": false,
    "ExecuteTime": {
     "end_time": "2023-06-23T02:06:32.496055200Z",
     "start_time": "2023-06-23T02:06:32.494551500Z"
    }
   }
  }
 ],
 "metadata": {
  "kernelspec": {
   "display_name": "Python 3",
   "language": "python",
   "name": "python3"
  },
  "language_info": {
   "codemirror_mode": {
    "name": "ipython",
    "version": 2
   },
   "file_extension": ".py",
   "mimetype": "text/x-python",
   "name": "python",
   "nbconvert_exporter": "python",
   "pygments_lexer": "ipython2",
   "version": "2.7.6"
  }
 },
 "nbformat": 4,
 "nbformat_minor": 0
}
