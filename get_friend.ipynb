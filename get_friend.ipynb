{
 "cells": [
  {
   "cell_type": "code",
   "execution_count": 3,
   "metadata": {
    "collapsed": true,
    "ExecuteTime": {
     "end_time": "2023-06-23T05:20:08.360386400Z",
     "start_time": "2023-06-23T05:20:08.018432200Z"
    }
   },
   "outputs": [
    {
     "name": "stderr",
     "output_type": "stream",
     "text": [
      "C:\\Users\\TruongNhuDat\\PycharmProjects\\pythonProject\\venv\\Lib\\site-packages\\urllib3\\connectionpool.py:1095: InsecureRequestWarning: Unverified HTTPS request is being made to host 'graph.facebook.com'. Adding certificate verification is strongly advised. See: https://urllib3.readthedocs.io/en/latest/advanced-usage.html#tls-warnings\n",
      "  warnings.warn(\n"
     ]
    }
   ],
   "source": [
    "import requests\n",
    "\n",
    "cookies = {\n",
    "    'sb': 'ttpvZI7d9xfsOc9zFyV0vW4l',\n",
    "    'datr': 'vqKBZLbu4PGRjrXWlkKH0_w4',\n",
    "    'c_user': '100013323961498',\n",
    "    'm_page_voice': '100013323961498',\n",
    "    'dpr': '1.100000023841858',\n",
    "    'xs': '47%3APwPMsmfVxU3_fA%3A2%3A1686238466%3A-1%3A6253%3A%3AAcXkWbq3Y4Lmz6F9nawCRQNhom8hU36uaF_anhT78IH3',\n",
    "    'presence': 'C%7B%22lm3%22%3A%22u.100010013526023%22%2C%22t3%22%3A%5B%7B%22i%22%3A%22g.3723019337711536%22%7D%5D%2C%22utc3%22%3A1687496936543%2C%22v%22%3A1%7D',\n",
    "    'usida': 'eyJ2ZXIiOjEsImlkIjoiQXJ3b3dhODE1MG9hM24iLCJ0aW1lIjoxNjg3NDk3MTc3fQ%3D%3D',\n",
    "    'fr': '0C3ohSamS78nf2jpL.AWVemiC8VjdGeQ0ibCOEat8LE-M.BklSNo.do.AAA.0.0.BklSpb.AWUIIlSqpic',\n",
    "    'wd': '1065x861',\n",
    "}\n",
    "\n",
    "headers = {\n",
    "    'Host': 'graph.facebook.com',\n",
    "    'Sec-Ch-Ua': '\"Chromium\";v=\"103\", \".Not/A)Brand\";v=\"99\"',\n",
    "    'Accept': 'application/json, text/plain, */*',\n",
    "    'Sec-Ch-Ua-Mobile': '?0',\n",
    "    'User-Agent': 'Mozilla/5.0 (Windows NT 10.0; Win64; x64) AppleWebKit/537.36 (KHTML, like Gecko) Chrome/103.0.5060.134 Safari/537.36',\n",
    "    'Sec-Ch-Ua-Platform': '\"Windows\"',\n",
    "    'Sec-Fetch-Site': 'none',\n",
    "    'Sec-Fetch-Mode': 'cors',\n",
    "    'Sec-Fetch-Dest': 'empty',\n",
    "    # 'Accept-Encoding': 'gzip, deflate',\n",
    "    'Accept-Language': 'en-US,en;q=0.9',\n",
    "    'Connection': 'close',\n",
    "}\n",
    "\n",
    "response = requests.get(\n",
    "    'https://graph.facebook.com/v2.0/me/friends?summary=total_count&limit=200&after=&fields=email,gender,name,id&access_token=EAAGPwr8GD2cBABVmB3Imb7If7pPLC3cKo0T61p6ZA2N4psDltaurVoM2ZATmGXBJ0OTTm1IZByX75bDU6RFCHEx8fNWNmy1rqrc8gRyklPNXsZCltmm0pUzkFpqWFrhsZB68ZCIjVuGU5wZCSVRQFEZAZCG6r6glUobIVvaraimoZC18oy9PBqVuAPSDt94z8uATz8Sx1E0ABglsKrhlRJnlzGFoijerBP2mk9qgmMLrrhoklMOI896zJn',\n",
    "    cookies=cookies,\n",
    "    headers=headers,\n",
    "    verify=False,\n",
    ")"
   ]
  },
  {
   "cell_type": "code",
   "execution_count": 4,
   "outputs": [
    {
     "data": {
      "text/plain": "{'data': [], 'summary': {'total_count': 410}}"
     },
     "execution_count": 4,
     "metadata": {},
     "output_type": "execute_result"
    }
   ],
   "source": [
    "response.json()"
   ],
   "metadata": {
    "collapsed": false,
    "ExecuteTime": {
     "end_time": "2023-06-23T05:20:08.366687700Z",
     "start_time": "2023-06-23T05:20:08.362381700Z"
    }
   }
  },
  {
   "cell_type": "code",
   "execution_count": 5,
   "outputs": [
    {
     "name": "stdout",
     "output_type": "stream",
     "text": [
      "Fri Jun 23 2023 12:10:29\n"
     ]
    }
   ],
   "source": [
    "from datetime import datetime\n",
    "\n",
    "timestamp = 1687497029028 / 1000  # Convert from milliseconds to seconds\n",
    "datetime_obj = datetime.fromtimestamp(timestamp)\n",
    "\n",
    "date_string = datetime_obj.strftime('%a %b %d %Y %H:%M:%S')\n",
    "print(date_string)\n"
   ],
   "metadata": {
    "collapsed": false,
    "ExecuteTime": {
     "end_time": "2023-06-23T05:51:53.053510800Z",
     "start_time": "2023-06-23T05:51:53.048524700Z"
    }
   }
  },
  {
   "cell_type": "code",
   "execution_count": 12,
   "outputs": [
    {
     "name": "stderr",
     "output_type": "stream",
     "text": [
      "C:\\Users\\TruongNhuDat\\PycharmProjects\\pythonProject\\venv\\Lib\\site-packages\\urllib3\\connectionpool.py:1095: InsecureRequestWarning: Unverified HTTPS request is being made to host 'www.facebook.com'. Adding certificate verification is strongly advised. See: https://urllib3.readthedocs.io/en/latest/advanced-usage.html#tls-warnings\n",
      "  warnings.warn(\n"
     ]
    }
   ],
   "source": [
    "import requests\n",
    "\n",
    "cookies = {\n",
    "    'sb': 'iEGIZAGD1CBGNuntwc9SbrGm',\n",
    "    'datr': 'qBKMZGgeuOUl5YleVdxfgOvH',\n",
    "    'c_user': '100090211968275',\n",
    "    'fbl_cs': 'AhDuIxSOfjhySA%2BwwW36%2BwSyGE89cWdxc0tOOHdQZDFnTGdMQ0Yya0tBUQ',\n",
    "    'fbl_ci': '945190189865883',\n",
    "    'vpd': 'v1%3B844x390x3',\n",
    "    'm_page_voice': '100090211968275',\n",
    "    'fbl_st': '101431269%3BT%3A28115154',\n",
    "    'wl_cbv': 'v2%3Bclient_version%3A2272%3Btimestamp%3A1686909241',\n",
    "    'dpr': '1',\n",
    "    'wd': '1920x979',\n",
    "    'xs': '28%3Au1zenSYwqz-vfQ%3A2%3A1686908582%3A-1%3A6272%3A%3AAcXiqnPhS0ZuzdXkC1_S8qfYOFTnlBFdb72eu5MG7w',\n",
    "    'fr': '0WytONcQ9oBkFbIX7.AWVqDzQ6mW1tqQRXV9Ny8Ds-0IY.BkjDLN.Ye.AAA.0.0.BklTGs.AWUllpWLlxg',\n",
    "    'presence': 'C%7B%22t3%22%3A%5B%5D%2C%22utc3%22%3A1687499194143%2C%22v%22%3A1%7D',\n",
    "}\n",
    "\n",
    "headers = {\n",
    "    'Host': 'www.facebook.com',\n",
    "    # 'Content-Length': '329',\n",
    "    'Sec-Ch-Ua': '\"Chromium\";v=\"103\", \".Not/A)Brand\";v=\"99\"',\n",
    "    'Accept': 'application/json, text/plain, */*',\n",
    "    'Content-Type': 'application/x-www-form-urlencoded',\n",
    "    'Sec-Ch-Ua-Mobile': '?0',\n",
    "    'User-Agent': 'Mozilla/5.0 (Windows NT 10.0; Win64; x64) AppleWebKit/537.36 (KHTML, like Gecko) Chrome/103.0.5060.134 Safari/537.36',\n",
    "    'Sec-Ch-Ua-Platform': '\"Windows\"',\n",
    "    'Origin': 'https://www.facebook.com',\n",
    "    'Sec-Fetch-Site': 'same-origin',\n",
    "    'Sec-Fetch-Mode': 'cors',\n",
    "    'Sec-Fetch-Dest': 'empty',\n",
    "    # 'Accept-Encoding': 'gzip, deflate',\n",
    "    'Accept-Language': 'en-US,en;q=0.9',\n",
    "    'Referer': 'https://www.facebook.com',\n",
    "}\n",
    "\n",
    "data = {\n",
    "    'fb_dtsg': 'NAcOHYtGOVbMTTwvRf0VEyndrsM5TpKjYeL45DD5CIuONh0XcVjq3BQ:28:1686908582',\n",
    "    'queries': '{\"o0\":{\"doc_id\":\"3426149104143726\",\"query_params\":{\"before\":1687497029028,\"limit\":1,\"tags\":[\"INBOX\"],\"includeDeliveryReceipts\":true,\"includeSeqID\":false}}}',\n",
    "}\n",
    "\n",
    "response = requests.post('https://www.facebook.com/api/graphqlbatch/', cookies=cookies, headers=headers, data=data, verify=False)"
   ],
   "metadata": {
    "collapsed": false,
    "ExecuteTime": {
     "end_time": "2023-06-23T05:54:24.022632200Z",
     "start_time": "2023-06-23T05:54:23.640625500Z"
    }
   }
  },
  {
   "cell_type": "code",
   "execution_count": 15,
   "outputs": [
    {
     "data": {
      "text/plain": "'{\"o0\":{\"data\":{\"viewer\":{\"message_threads\":{\"nodes\":[{\"id\":\"bWVzc2FnZV90aHJlYWQ6MTAwMDc1MTE5NDUyNjY3\",\"thread_key\":{\"thread_fbid\":null,\"other_user_id\":\"100075119452667\"},\"name\":null,\"last_message\":{\"nodes\":[{\"snippet\":\"\\\\ud83d\\\\ude1b\\\\ud83d\\\\ude1b\\\\ud83d\\\\ude1b\",\"message_sender\":{\"messaging_actor\":{\"id\":\"100075119452667\"}},\"timestamp_precise\":\"1687497029028\",\"commerce_message_type\":null,\"extensible_attachment\":null,\"sticker\":null,\"blob_attachments\":[],\"platform_xmd_encoded\":null,\"message_unsendability_status\":\"deny_for_non_sender\"}]},\"thread_connectivity_data\":{\"connectivity_status\":\"IMPLICIT_OR_TWO_WAY_MESSAGING\",\"first_sender_id\":\"100090211968275\"},\"thread_associated_job_applications\":{\"nodes\":[]},\"thread_associated_page_admin\":null,\"unread_count\":1,\"messages_count\":1,\"square_image\":null,\"image\":null,\"updated_time_precise\":\"1687497029028\",\"mute_until\":null,\"is_pin_protected\":false,\"is_pinned\":false,\"is_viewer_subscribed\":true,\"is_other_recipient_page\":false,\"thread_queue_enabled\":false,\"folder\":\"INBOX\",\"has_viewer_archived\":false,\"is_page_follow_up\":false,\"is_page_unresponded_thread\":false,\"cannot_reply_reason\":null,\"can_viewer_report\":true,\"composer_input_disabled\":null,\"ephemeral_ttl_mode\":0,\"customization_info\":null,\"thread_theme\":null,\"thread_admins\":[],\"approval_mode\":null,\"joinable_mode\":{\"mode\":\"0\",\"link\":\"\"},\"group_approval_queue\":{\"nodes\":[]},\"thread_queue_metadata\":null,\"event_reminders\":{\"nodes\":[]},\"montage_thread\":{\"id\":\"bWVzc2FnZV90aHJlYWQ6MTA5MDgyNzQ0OTM5MDQw\"},\"last_read_receipt\":{\"nodes\":[{\"timestamp_precise\":\"1687495784728\"}]},\"related_page_thread\":null,\"rtc_call_data\":{\"call_state\":\"NO_ONGOING_CALL\",\"server_info_data\":\"\",\"initiator\":null},\"marketplace_thread_data\":null,\"associated_object\":null,\"privacy_mode\":1,\"reactions_mute_mode\":\"REACTIONS_NOT_MUTED\",\"mentions_mute_mode\":\"MENTIONS_NOT_MUTED\",\"customization_enabled\":true,\"thread_type\":\"ONE_TO_ONE\",\"group_thread_subtype\":null,\"participant_add_mode_as_string\":null,\"is_canonical_neo_user\":false,\"participants_event_status\":[],\"page_comm_item\":null,\"admin_model_status_string\":\"\",\"groups_sync_status_string\":null,\"groups_sync_metadata\":null,\"pinned_messages\":[],\"work_groups_sync_metadata\":null,\"saved_messages\":[],\"description\":null,\"joinable_link\":null,\"is_fuss_red_page\":false,\"linked_mentorship_programs\":{\"nodes\":[]},\"thread_unsendability_status\":\"can_unsend\",\"thread_pin_timestamp\":0,\"is_business_page_active\":false,\"conversion_detection_data\":{\"is_eligible\":null,\"conversion_type\":null,\"currency_code\":null,\"currency_amount\":null,\"timestamp\":null,\"page_reply\":null,\"icebreaker_key\":null,\"icebreaker_message\":null,\"trigger_id\":null},\"suggested_reply_data\":{\"suggestion_type\":null,\"suggestion_content\":null,\"triggered_timestamp\":null},\"all_participants\":{\"edges\":[{\"admin_type\":null,\"node\":{\"messaging_actor\":{\"id\":\"100075119452667\",\"__typename\":\"User\",\"name\":\"Ph\\\\u1ea1m Ng\\\\u1ecdc Di\\\\u1ec7p\",\"gender\":\"FEMALE\",\"url\":\"https:\\\\/\\\\/www.facebook.com\\\\/profile.php?id=100075119452667\",\"big_image_src\":{\"uri\":\"https:\\\\/\\\\/scontent.fhan14-1.fna.fbcdn.net\\\\/v\\\\/t39.30808-1\\\\/352656297_276816788165634_5782645138039471162_n.jpg?stp=cp0_dst-jpg_p60x60&_nc_cat=105&ccb=1-7&_nc_sid=7206a8&_nc_ohc=NXRFntwznG0AX-y1WIb&_nc_ht=scontent.fhan14-1.fna&oh=00_AfCBPMj12SUvucxamaQ2VM9gcl1i8duShVudST4QC2nsLQ&oe=649ADB20\"},\"short_name\":\"Ng\\\\u1ecdc Di\\\\u1ec7p\",\"username\":\"\",\"is_viewer_friend\":true,\"is_messenger_user\":true,\"is_message_blocked_by_viewer\":false,\"is_viewer_coworker\":false,\"is_employee\":null,\"is_aloha_proxy_confirmed\":false,\"scim_company_user\":null,\"work_info\":null,\"work_foreign_entity_info\":null}}},{\"admin_type\":null,\"node\":{\"messaging_actor\":{\"id\":\"100090211968275\",\"__typename\":\"User\",\"name\":\"Tr\\\\u1ea7n Thanh H\\\\u1ed3ng\",\"gender\":\"FEMALE\",\"url\":\"https:\\\\/\\\\/www.facebook.com\\\\/profile.php?id=100090211968275\",\"big_image_src\":{\"uri\":\"https:\\\\/\\\\/scontent.fhan14-1.fna.fbcdn.net\\\\/v\\\\/t39.30808-1\\\\/354920110_196312000052531_1191008901104650863_n.jpg?stp=cp0_dst-jpg_p60x60&_nc_cat=107&ccb=1-7&_nc_sid=7206a8&_nc_ohc=AiqE10J6D6kAX_dgxN3&_nc_ht=scontent.fhan14-1.fna&oh=00_AfBQuvFUSK5R2t_Jr2Jvw0QbzLDSZ5HVc5l5r3q3BBz7ng&oe=64994A8E\"},\"short_name\":\"H\\\\u1ed3ng\",\"username\":\"\",\"is_viewer_friend\":false,\"is_messenger_user\":true,\"is_message_blocked_by_viewer\":false,\"is_viewer_coworker\":false,\"is_employee\":null,\"is_aloha_proxy_confirmed\":false,\"scim_company_user\":null,\"work_info\":null,\"work_foreign_entity_info\":null}}}]},\"read_receipts\":{\"nodes\":[{\"watermark\":\"1687497029045\",\"action\":\"1687497029047\",\"actor\":{\"id\":\"100075119452667\"}},{\"watermark\":\"1687495784728\",\"action\":\"1687495784728\",\"actor\":{\"id\":\"100090211968275\"}}]},\"delivery_receipts\":{\"nodes\":[]}}]},\"pending_threads\":{\"unseen_count\":0}}}}}\\r\\n{\"successful_results\":1,\"error_results\":0,\"skipped_results\":0}'"
     },
     "execution_count": 15,
     "metadata": {},
     "output_type": "execute_result"
    }
   ],
   "source": [
    "response.text"
   ],
   "metadata": {
    "collapsed": false,
    "ExecuteTime": {
     "end_time": "2023-06-23T05:54:29.911401300Z",
     "start_time": "2023-06-23T05:54:29.905423900Z"
    }
   }
  },
  {
   "cell_type": "code",
   "execution_count": null,
   "outputs": [],
   "source": [],
   "metadata": {
    "collapsed": false
   }
  }
 ],
 "metadata": {
  "kernelspec": {
   "display_name": "Python 3",
   "language": "python",
   "name": "python3"
  },
  "language_info": {
   "codemirror_mode": {
    "name": "ipython",
    "version": 2
   },
   "file_extension": ".py",
   "mimetype": "text/x-python",
   "name": "python",
   "nbconvert_exporter": "python",
   "pygments_lexer": "ipython2",
   "version": "2.7.6"
  }
 },
 "nbformat": 4,
 "nbformat_minor": 0
}
