{
 "cells": [
  {
   "cell_type": "code",
   "execution_count": null,
   "metadata": {
    "collapsed": true
   },
   "outputs": [],
   "source": []
  },
  {
   "cell_type": "code",
   "execution_count": 19,
   "outputs": [],
   "source": [
    "import requests\n",
    "\n",
    "cookies = {\n",
    "    'sb': 'ttpvZI7d9xfsOc9zFyV0vW4l',\n",
    "    'datr': 'vqKBZLbu4PGRjrXWlkKH0_w4',\n",
    "    'c_user': '100013323961498',\n",
    "    'm_page_voice': '100013323961498',\n",
    "    'dpr': '1.100000023841858',\n",
    "    'xs': '47%3APwPMsmfVxU3_fA%3A2%3A1686238466%3A-1%3A6253%3A%3AAcXm5HdY8bwITNboBiD3RWtfA3WX5pa3uYpPJKJ10Smv',\n",
    "    'fr': '0idqpEu72krxWXko0.AWUoWGInMO3K0dBsELvHdTFCu4s.Bkk9-3.do.AAA.0.0.Bkk9-3.AWX_BiWM4ac',\n",
    "    'presence': 'C%7B%22t3%22%3A%5B%5D%2C%22utc3%22%3A1687412727921%2C%22v%22%3A1%7D',\n",
    "    'wd': '1065x861',\n",
    "}\n",
    "\n",
    "headers = {\n",
    "    'authority': 'www.facebook.com',\n",
    "    'accept': '*/*',\n",
    "    'accept-language': 'en-US,en;q=0.9',\n",
    "    'cache-control': 'no-cache',\n",
    "    'content-type': 'application/x-www-form-urlencoded',\n",
    "    'origin': 'https://www.facebook.com',\n",
    "    'pragma': 'no-cache',\n",
    "    'referer': 'https://www.facebook.com/100013323961498/allactivity?activity_history=false&category_key=CHECKINS&manage_mode=false&should_load_landing_page=false',\n",
    "    'sec-ch-prefers-color-scheme': 'light',\n",
    "    'sec-ch-ua': '\"Not.A/Brand\";v=\"8\", \"Chromium\";v=\"114\", \"Google Chrome\";v=\"114\"',\n",
    "    'sec-ch-ua-full-version-list': '\"Not.A/Brand\";v=\"8.0.0.0\", \"Chromium\";v=\"114.0.5735.134\", \"Google Chrome\";v=\"114.0.5735.134\"',\n",
    "    'sec-ch-ua-mobile': '?0',\n",
    "    'sec-ch-ua-platform': '\"Windows\"',\n",
    "    'sec-ch-ua-platform-version': '\"10.0.0\"',\n",
    "    'sec-fetch-dest': 'empty',\n",
    "    'sec-fetch-mode': 'cors',\n",
    "    'sec-fetch-site': 'same-origin',\n",
    "    'user-agent': 'Mozilla/5.0 (Windows NT 10.0; Win64; x64) AppleWebKit/537.36 (KHTML, like Gecko) Chrome/114.0.0.0 Safari/537.36',\n",
    "    'viewport-width': '1223',\n",
    "    'x-asbd-id': '129477',\n",
    "    'x-fb-friendly-name': 'CometActivityLogMainContentRootQuery',\n",
    "    'x-fb-lsd': 'FF4CxVz5oOAI4MH21SpJli',\n",
    "}\n",
    "\n",
    "data = {\n",
    "    'av': '100013323961498',\n",
    "    'fb_dtsg': 'NAcPCZ_ThASAc3XE9tNlpSIGF63nWiHESM-vHCF6dNlwRl_MA9tjBig:47:1686238466',\n",
    "    'fb_api_caller_class': 'RelayModern',\n",
    "    'fb_api_req_friendly_name': 'CometActivityLogMainContentRootQuery',\n",
    "    'variables': '{\"activity_history\":false,\"audience\":null,\"ayi_taxonomy\":false,\"category\":\"MANAGEYOURPOSTS\",\"category_key\":\"MANAGEYOURPOSTS\",\"count\":25,\"cursor\":null,\"entry_point\":null,\"media_content_filters\":[],\"month\":null,\"person_id\":null,\"privacy\":\"NONE\",\"scale\":1,\"timeline_visibility\":\"ALL\",\"year\":null}',\n",
    "    'server_timestamps': 'true',\n",
    "    'doc_id': '9594532877286182',\n",
    "}\n",
    "\n",
    "response = requests.post('https://www.facebook.com/api/graphql/', cookies=cookies, headers=headers, data=data)"
   ],
   "metadata": {
    "collapsed": false,
    "ExecuteTime": {
     "end_time": "2023-06-22T09:59:11.279206Z",
     "start_time": "2023-06-22T09:59:07.488198Z"
    }
   }
  },
  {
   "cell_type": "code",
   "execution_count": 20,
   "outputs": [],
   "source": [
    "resp = response.json()['data']['viewer']['activity_log_actor']['activity_log_stories']"
   ],
   "metadata": {
    "collapsed": false,
    "ExecuteTime": {
     "end_time": "2023-06-22T09:59:11.284351Z",
     "start_time": "2023-06-22T09:59:11.280203200Z"
    }
   }
  },
  {
   "cell_type": "code",
   "execution_count": 21,
   "outputs": [
    {
     "name": "stdout",
     "output_type": "stream",
     "text": [
      "{'can_viewer_edit': True, 'privacy_write_id': 'cHJpdmFjeV9zY29wZV9yZW5kZXJlcjp7ImlkIjoxNzY3MDk5Nzk3MDc3NDY5fQ', 'label': 'Công khai', 'icon_image': {'name': 'everyone', 'height': 11, 'scale': 1, 'uri': 'https://static.xx.fbcdn.net/rsrc.php/v3/yp/r/--soLpMIbaJ.png', 'width': 10}} https://www.facebook.com/truongnhudatt/posts/pfbid0xVNnPWBnkZbXBRk61n8aXyqgKTgXXgHet6DDWrHcfxt17V51wZcPDxQZEUTt83dhl\n",
      "{'can_viewer_edit': True, 'privacy_write_id': 'cHJpdmFjeV9zY29wZV9yZW5kZXJlcjp7ImlkIjoxNzQyNTMzNzI5NTM0MDc2fQ', 'label': 'Công khai', 'icon_image': {'name': 'everyone', 'height': 11, 'scale': 1, 'uri': 'https://static.xx.fbcdn.net/rsrc.php/v3/yp/r/--soLpMIbaJ.png', 'width': 10}} https://www.facebook.com/truongnhudatt/posts/pfbid0gHWmyLwMCjADvcjMxXZ2YspEpZFew9Gwcco7yTLzwuh9zvLGHN9jwXfCiPVtWx4Cl\n",
      "{'can_viewer_edit': True, 'privacy_write_id': 'cHJpdmFjeV9zY29wZV9yZW5kZXJlcjp7ImlkIjo3OTM2ODc2NTUxODgyMTV9', 'label': 'Chỉ mình tôi', 'icon_image': {'name': 'only_me', 'height': 12, 'scale': 1, 'uri': 'https://static.xx.fbcdn.net/rsrc.php/v3/yS/r/0973yYnMwVl.png', 'width': 12}} https://www.facebook.com/truongnhudatt/videos/793687655188215/\n",
      "{'can_viewer_edit': True, 'privacy_write_id': 'cHJpdmFjeV9zY29wZV9yZW5kZXJlcjp7ImlkIjoxNzE3MzYxOTY4NzE3OTE5fQ', 'label': 'Công khai', 'icon_image': {'name': 'everyone', 'height': 11, 'scale': 1, 'uri': 'https://static.xx.fbcdn.net/rsrc.php/v3/yp/r/--soLpMIbaJ.png', 'width': 10}} https://www.facebook.com/truongnhudatt/posts/pfbid01U9XTM5QryVTBw8K6Y4SHgkZqt7FwJtJLFmcnEDZG7unponUXu36B1WUcQU2goaYl\n",
      "{'can_viewer_edit': True, 'privacy_write_id': 'cHJpdmFjeV9zY29wZV9yZW5kZXJlcjp7ImlkIjoxNjc1NzQyODA2MjEzMTY5fQ', 'label': 'Chỉ mình tôi', 'icon_image': {'name': 'only_me', 'height': 12, 'scale': 1, 'uri': 'https://static.xx.fbcdn.net/rsrc.php/v3/yS/r/0973yYnMwVl.png', 'width': 12}} https://www.facebook.com/truongnhudatt/posts/pfbid0292QXkCHj932yvAVRQxEWQ9wKfZPUL5doqZtpbNSM8kfo7JWp19ToTNHidZiBrncnl\n",
      "{'can_viewer_edit': True, 'privacy_write_id': 'cHJpdmFjeV9zY29wZV9yZW5kZXJlcjp7ImlkIjoxNjIzMzQ2ODM0Nzg2MTAwfQ', 'label': 'Chỉ mình tôi', 'icon_image': {'name': 'only_me', 'height': 12, 'scale': 1, 'uri': 'https://static.xx.fbcdn.net/rsrc.php/v3/yS/r/0973yYnMwVl.png', 'width': 12}} https://www.facebook.com/truongnhudatt/posts/pfbid05u7sCDy7KPXTWeDXvovP7g2rn53qCwSz9d3bvojfdaw2Dg1twjXqbZmEYcVDGUxYl\n",
      "{'can_viewer_edit': True, 'privacy_write_id': 'cHJpdmFjeV9zY29wZV9yZW5kZXJlcjp7ImlkIjoxNjE2MTExMTc4ODQyOTk5fQ', 'label': 'Chỉ mình tôi', 'icon_image': {'name': 'only_me', 'height': 12, 'scale': 1, 'uri': 'https://static.xx.fbcdn.net/rsrc.php/v3/yS/r/0973yYnMwVl.png', 'width': 12}} https://www.facebook.com/truongnhudatt/posts/pfbid0q7i5td1FR3R1XvPJwN8yDctJiUwkTdMAHofUyVWTGq9CicxSMAeKSkqZD61RPfTrl\n",
      "{'can_viewer_edit': True, 'privacy_write_id': 'cHJpdmFjeV9zY29wZV9yZW5kZXJlcjp7ImlkIjoxNjE1MzYwNjcyMjUxMzgzfQ', 'label': 'Chỉ mình tôi', 'icon_image': {'name': 'only_me', 'height': 12, 'scale': 1, 'uri': 'https://static.xx.fbcdn.net/rsrc.php/v3/yS/r/0973yYnMwVl.png', 'width': 12}} https://www.facebook.com/truongnhudatt/posts/pfbid0wgJkQ9tvd3gqQreLZkr2C6F89TkWaPuDm3uyn6ynM5Z4ShaLwK7pQgSjnV6T3jttl\n",
      "{'can_viewer_edit': True, 'privacy_write_id': 'cHJpdmFjeV9zY29wZV9yZW5kZXJlcjp7ImlkIjoxNjA3OTY2NzM5NjU3NDQzfQ', 'label': 'Chỉ mình tôi', 'icon_image': {'name': 'only_me', 'height': 12, 'scale': 1, 'uri': 'https://static.xx.fbcdn.net/rsrc.php/v3/yS/r/0973yYnMwVl.png', 'width': 12}} https://www.facebook.com/truongnhudatt/posts/pfbid02pw7diyY3md12tH3LmXGrmXCPLMmynrQuZUqPFv3MvMdcxwDuyzY4EDAfc17J3AGvl\n",
      "{'can_viewer_edit': True, 'privacy_write_id': 'cHJpdmFjeV9zY29wZV9yZW5kZXJlcjp7ImlkIjo2NDE0MTg5MzQzMDA1NjF9', 'label': 'Chỉ mình tôi', 'icon_image': {'name': 'only_me', 'height': 12, 'scale': 1, 'uri': 'https://static.xx.fbcdn.net/rsrc.php/v3/yS/r/0973yYnMwVl.png', 'width': 12}} https://www.facebook.com/truongnhudatt/videos/641418934300561/\n",
      "{'can_viewer_edit': True, 'privacy_write_id': 'cHJpdmFjeV9zY29wZV9yZW5kZXJlcjp7ImlkIjo1OTM5MjU4ODk2MTE5Mjk4fQ', 'label': 'Chỉ mình tôi', 'icon_image': {'name': 'only_me', 'height': 12, 'scale': 1, 'uri': 'https://static.xx.fbcdn.net/rsrc.php/v3/yS/r/0973yYnMwVl.png', 'width': 12}} https://www.facebook.com/truongnhudatt/videos/5939258896119298/\n",
      "{'can_viewer_edit': True, 'privacy_write_id': 'cHJpdmFjeV9zY29wZV9yZW5kZXJlcjp7ImlkIjoxNTkwNTc5NDA4MDYyODQzfQ', 'label': 'Chỉ mình tôi', 'icon_image': {'name': 'only_me', 'height': 12, 'scale': 1, 'uri': 'https://static.xx.fbcdn.net/rsrc.php/v3/yS/r/0973yYnMwVl.png', 'width': 12}} https://www.facebook.com/truongnhudatt/posts/pfbid0Tb12LZ1GH42kmvfVpFzKenhLYfLzRW9RnyoTkfTaa59eufLC5f966dRWkrKtQGntl\n",
      "{'can_viewer_edit': True, 'privacy_write_id': 'cHJpdmFjeV9zY29wZV9yZW5kZXJlcjp7ImlkIjoxNTkwMDQxMTU0NzgzMzM1fQ', 'label': 'Chỉ mình tôi', 'icon_image': {'name': 'only_me', 'height': 12, 'scale': 1, 'uri': 'https://static.xx.fbcdn.net/rsrc.php/v3/yS/r/0973yYnMwVl.png', 'width': 12}} https://www.facebook.com/truongnhudatt/posts/pfbid0P8AyezeJCcPp1wgJD5eLSrnZHeBq3aUNyuR4oWuoFuAd2aMBYxxe3eCHWSaqeaPPl\n",
      "{'can_viewer_edit': True, 'privacy_write_id': 'cHJpdmFjeV9zY29wZV9yZW5kZXJlcjp7ImlkIjoxNTg1MjMxNDM4NTk3NjQwfQ', 'label': 'Chỉ mình tôi', 'icon_image': {'name': 'only_me', 'height': 12, 'scale': 1, 'uri': 'https://static.xx.fbcdn.net/rsrc.php/v3/yS/r/0973yYnMwVl.png', 'width': 12}} https://www.facebook.com/truongnhudatt/posts/pfbid0UfFWY5CoStswr1RuP6YNjT7JsA5zeghehpcGF4HjnDDELrL6wgETdz6riUHS1SdZl\n",
      "{'can_viewer_edit': True, 'privacy_write_id': 'cHJpdmFjeV9zY29wZV9yZW5kZXJlcjp7ImlkIjo2MjUyNzkxNjIyODU1ODB9', 'label': 'Chỉ mình tôi', 'icon_image': {'name': 'only_me', 'height': 12, 'scale': 1, 'uri': 'https://static.xx.fbcdn.net/rsrc.php/v3/yS/r/0973yYnMwVl.png', 'width': 12}} https://www.facebook.com/truongnhudatt/videos/625279162285580/\n",
      "{'can_viewer_edit': True, 'privacy_write_id': 'cHJpdmFjeV9zY29wZV9yZW5kZXJlcjp7ImlkIjoxNTY3Njc1ODcwMzUzMTk3fQ', 'label': 'Chỉ mình tôi', 'icon_image': {'name': 'only_me', 'height': 12, 'scale': 1, 'uri': 'https://static.xx.fbcdn.net/rsrc.php/v3/yS/r/0973yYnMwVl.png', 'width': 12}} https://www.facebook.com/truongnhudatt/posts/pfbid0tU6xic5BkiMjGAaVcA6ouDXTZZuzTteqmmPPauEtCzwrD7HHDftoJMMjWP1aChwjl\n",
      "{'can_viewer_edit': True, 'privacy_write_id': 'cHJpdmFjeV9zY29wZV9yZW5kZXJlcjp7ImlkIjoxNTU5NDM2MjE3ODQzODI5fQ', 'label': 'Chỉ mình tôi', 'icon_image': {'name': 'only_me', 'height': 12, 'scale': 1, 'uri': 'https://static.xx.fbcdn.net/rsrc.php/v3/yS/r/0973yYnMwVl.png', 'width': 12}} https://www.facebook.com/truongnhudatt/posts/pfbid0LMxkWv6287nJRuQc1KwFRvEZEzQouBM4HQyDXTvqeCJyrKsQ6WTmexbLiULuFzrBl\n",
      "{'can_viewer_edit': True, 'privacy_write_id': 'cHJpdmFjeV9zY29wZV9yZW5kZXJlcjp7ImlkIjoxNTU0MTg4Njk1MDM1MjQ4fQ', 'label': 'Công khai', 'icon_image': {'name': 'everyone', 'height': 11, 'scale': 1, 'uri': 'https://static.xx.fbcdn.net/rsrc.php/v3/yp/r/--soLpMIbaJ.png', 'width': 10}} https://www.facebook.com/truongnhudatt/posts/pfbid0puNM4xMpMKSCB526P25BdFBZRRf6h2dRQ26FQDFPpR5G6zW1WrsYjLtVk61XXVdQl\n",
      "{'can_viewer_edit': True, 'privacy_write_id': 'cHJpdmFjeV9zY29wZV9yZW5kZXJlcjp7ImlkIjoxNTM3MTI0OTczNDA4Mjg3fQ', 'label': 'Chỉ mình tôi', 'icon_image': {'name': 'only_me', 'height': 12, 'scale': 1, 'uri': 'https://static.xx.fbcdn.net/rsrc.php/v3/yS/r/0973yYnMwVl.png', 'width': 12}} https://www.facebook.com/truongnhudatt/posts/pfbid02kS6vpbigy2BVp3TLneNHSeNMonpe3yf3UeBMMFegKBvDTS6LfsPKK87KBa7SmZA2l\n",
      "{'can_viewer_edit': True, 'privacy_write_id': 'cHJpdmFjeV9zY29wZV9yZW5kZXJlcjp7ImlkIjoxNTM0MzYwMTE3MDE4MTA2fQ', 'label': 'Công khai', 'icon_image': {'name': 'everyone', 'height': 11, 'scale': 1, 'uri': 'https://static.xx.fbcdn.net/rsrc.php/v3/yp/r/--soLpMIbaJ.png', 'width': 10}} https://www.facebook.com/truongnhudatt/posts/pfbid0QLwZ9ZMMdA8sgzTHD57m3UmKHKYNfAVNVMkfvgDDuq9vgRGmptFi7KPvwsAzzwNzl\n",
      "{'can_viewer_edit': True, 'privacy_write_id': 'cHJpdmFjeV9zY29wZV9yZW5kZXJlcjp7ImlkIjo4MjA1NTI3Njg5MzEyNjN9', 'label': 'Chỉ mình tôi', 'icon_image': {'name': 'only_me', 'height': 12, 'scale': 1, 'uri': 'https://static.xx.fbcdn.net/rsrc.php/v3/yS/r/0973yYnMwVl.png', 'width': 12}} https://www.facebook.com/truongnhudatt/videos/820552768931263/\n",
      "{'can_viewer_edit': True, 'privacy_write_id': 'cHJpdmFjeV9zY29wZV9yZW5kZXJlcjp7ImlkIjoxNTI5Mjk1Njk3NTI0NTQ4fQ', 'label': 'Chỉ mình tôi', 'icon_image': {'name': 'only_me', 'height': 12, 'scale': 1, 'uri': 'https://static.xx.fbcdn.net/rsrc.php/v3/yS/r/0973yYnMwVl.png', 'width': 12}} https://www.facebook.com/truongnhudatt/posts/pfbid02i6uCuhMheSkG9qRggoTh1itqAyFbeHZ2cdRZSpMDBrbYZzvHXXLcQ6BbFA8SXcWwl\n",
      "{'can_viewer_edit': True, 'privacy_write_id': 'cHJpdmFjeV9zY29wZV9yZW5kZXJlcjp7ImlkIjoxNTI4MTM2NzAwOTczNzgxfQ', 'label': 'Chỉ mình tôi', 'icon_image': {'name': 'only_me', 'height': 12, 'scale': 1, 'uri': 'https://static.xx.fbcdn.net/rsrc.php/v3/yS/r/0973yYnMwVl.png', 'width': 12}} https://www.facebook.com/truongnhudatt/posts/pfbid0Fh7yAJLwmUqHfoL71uqSjCNMgKpmXab8aCtVArigdCoSiMQ6yennXuk9cTJfLWs7l\n",
      "{'can_viewer_edit': True, 'privacy_write_id': 'cHJpdmFjeV9zY29wZV9yZW5kZXJlcjp7ImlkIjoxNTI0MDM2MjAxMzgzODMxfQ', 'label': 'Chỉ mình tôi', 'icon_image': {'name': 'only_me', 'height': 12, 'scale': 1, 'uri': 'https://static.xx.fbcdn.net/rsrc.php/v3/yS/r/0973yYnMwVl.png', 'width': 12}} https://www.facebook.com/truongnhudatt/posts/pfbid02ZySXLnAdsh3sCX1xikKWxXAhbhKeYEaeCCnixErXLUQqik8J86hGaXVRpFiiU1Xql\n"
     ]
    }
   ],
   "source": [
    "for item in resp['edges']:\n",
    "    print(item['node']['privacy_scope']['privacy_scope_renderer']['privacy_scope_for_location'], item['node']['url'])"
   ],
   "metadata": {
    "collapsed": false,
    "ExecuteTime": {
     "end_time": "2023-06-22T09:59:11.289988Z",
     "start_time": "2023-06-22T09:59:11.285349100Z"
    }
   }
  },
  {
   "cell_type": "code",
   "execution_count": 28,
   "outputs": [],
   "source": [
    "import requests\n",
    "\n",
    "cookies = {\n",
    "    'sb': 'ttpvZI7d9xfsOc9zFyV0vW4l',\n",
    "    'datr': 'vqKBZLbu4PGRjrXWlkKH0_w4',\n",
    "    'c_user': '100013323961498',\n",
    "    'm_page_voice': '100013323961498',\n",
    "    'dpr': '1.100000023841858',\n",
    "    'xs': '47%3APwPMsmfVxU3_fA%3A2%3A1686238466%3A-1%3A6253%3A%3AAcXdpWQpDCljw2XQt4xhSuV4NhH3zGVKv4rpnYpA6L7Z',\n",
    "    'fr': '0a0O71OEJQV3Fjfhd.AWVK0hW5HT-7nixXS_c2cGGAHGw.BklBi5.do.AAA.0.0.BklBi5.AWX0Zjle_Gw',\n",
    "    'presence': 'C%7B%22t3%22%3A%5B%7B%22i%22%3A%22u.111800238%22%7D%2C%7B%22i%22%3A%22g.6668700323181928%22%7D%2C%7B%22i%22%3A%22u.100010013526023%22%7D%5D%2C%22utc3%22%3A1687428109015%2C%22v%22%3A1%7D',\n",
    "    'wd': '1065x861',\n",
    "}\n",
    "\n",
    "headers = {\n",
    "    'authority': 'www.facebook.com',\n",
    "    'accept': '*/*',\n",
    "    'accept-language': 'en-US,en;q=0.9,vi;q=0.8',\n",
    "    'content-type': 'application/x-www-form-urlencoded',\n",
    "    # 'cookie': 'sb=ttpvZI7d9xfsOc9zFyV0vW4l; datr=vqKBZLbu4PGRjrXWlkKH0_w4; c_user=100013323961498; m_page_voice=100013323961498; dpr=1.100000023841858; xs=47%3APwPMsmfVxU3_fA%3A2%3A1686238466%3A-1%3A6253%3A%3AAcXdpWQpDCljw2XQt4xhSuV4NhH3zGVKv4rpnYpA6L7Z; fr=0a0O71OEJQV3Fjfhd.AWVK0hW5HT-7nixXS_c2cGGAHGw.BklBi5.do.AAA.0.0.BklBi5.AWX0Zjle_Gw; presence=C%7B%22t3%22%3A%5B%7B%22i%22%3A%22u.111800238%22%7D%2C%7B%22i%22%3A%22g.6668700323181928%22%7D%2C%7B%22i%22%3A%22u.100010013526023%22%7D%5D%2C%22utc3%22%3A1687428109015%2C%22v%22%3A1%7D; wd=1065x861',\n",
    "    'origin': 'https://www.facebook.com',\n",
    "    'referer': 'https://www.facebook.com/truongnhudatt/',\n",
    "    'sec-ch-prefers-color-scheme': 'light',\n",
    "    'sec-ch-ua': '\"Not.A/Brand\";v=\"8\", \"Chromium\";v=\"114\", \"Google Chrome\";v=\"114\"',\n",
    "    'sec-ch-ua-full-version-list': '\"Not.A/Brand\";v=\"8.0.0.0\", \"Chromium\";v=\"114.0.5735.134\", \"Google Chrome\";v=\"114.0.5735.134\"',\n",
    "    'sec-ch-ua-mobile': '?0',\n",
    "    'sec-ch-ua-platform': '\"Windows\"',\n",
    "    'sec-ch-ua-platform-version': '\"10.0.0\"',\n",
    "    'sec-fetch-dest': 'empty',\n",
    "    'sec-fetch-mode': 'cors',\n",
    "    'sec-fetch-site': 'same-origin',\n",
    "    'user-agent': 'Mozilla/5.0 (Windows NT 10.0; Win64; x64) AppleWebKit/537.36 (KHTML, like Gecko) Chrome/114.0.0.0 Safari/537.36',\n",
    "    'viewport-width': '1065',\n",
    "    'x-asbd-id': '129477',\n",
    "    'x-fb-friendly-name': 'CometManagePostsFeedRefetchQuery',\n",
    "    'x-fb-lsd': 'N7utwsL9fg2S3H1DQY-DNK',\n",
    "}\n",
    "\n",
    "data = {\n",
    "    'av': '100013323961498',\n",
    "    'fb_dtsg': 'NAcMiJzaGUXsk6sJF-8_uFnA6NP2krnwhbWojLb9dojl9L4_lGRbHog:47:1686238466',\n",
    "    'fb_api_caller_class': 'RelayModern',\n",
    "    'fb_api_req_friendly_name': 'CometManagePostsFeedRefetchQuery',\n",
    "    'variables': '{\"afterTime\":null,\"beforeTime\":null,\"count\":9,\"cursor\":null,\"gridMediaWidth\":230,\"includeGroupScheduledPosts\":false,\"includeScheduledPosts\":null,\"omitPinnedPost\":true,\"postedBy\":{\"group\":\"OWNER\"},\"privacy\":{\"exclusivity\":\"EXCLUSIVE\",\"filter\":\"FRIENDS\"},\"privacySelectorRenderLocation\":\"COMET_STREAM\",\"renderLocation\":\"timeline\",\"scale\":1.5,\"taggedInOnly\":false,\"id\":\"100013323961498\"}',\n",
    "    'server_timestamps': 'true',\n",
    "    'doc_id': '6455916941165884',\n",
    "}\n",
    "\n",
    "response = requests.post('https://www.facebook.com/api/graphql/', cookies=cookies, headers=headers, data=data)"
   ],
   "metadata": {
    "collapsed": false,
    "ExecuteTime": {
     "end_time": "2023-06-22T10:03:35.498030400Z",
     "start_time": "2023-06-22T10:03:35.018994Z"
    }
   }
  },
  {
   "cell_type": "code",
   "execution_count": 30,
   "outputs": [
    {
     "data": {
      "text/plain": "['UzpfSTEwMDAxMzMyMzk2MTQ5ODoxMjM2MTEzNjYwMTc2MDg4OjEyMzYxMTM2NjAxNzYwODg=',\n '100013323961498',\n '1055294588257997',\n 'UzpfSTEwMDAxMzMyMzk2MTQ5ODoxMjM2MTEzNjYwMTc2MDg4OjEyMzYxMTM2NjAxNzYwODg=',\n 'ba462fd22c0a90ce82f3ed7829b8cb72',\n 'cHJpdmFjeV9zY29wZV9yZW5kZXJlcjp7ImlkIjoxMjM2MTEzNjYwMTc2MDg4fQ',\n 'cHJpdmFjeV9zY29wZV9yZW5kZXJlcjp7ImlkIjoxMjM2MTEzNjYwMTc2MDg4fQ',\n 'UzpfSTEwMDAxMzMyMzk2MTQ5ODoxMjM2MTEzNjYwMTc2MDg4OjEyMzYxMTM2NjAxNzYwODg=',\n 'UzpfSTEwMDAxMzMyMzk2MTQ5ODoxMjM2MTEzNjYwMTc2MDg4OjEyMzYxMTM2NjAxNzYwODg=',\n 'UzpfSTEwMDAxMzMyMzk2MTQ5ODoxMjM2MTEzNjYwMTc2MDg4OjEyMzYxMTM2NjAxNzYwODg=',\n '843152429648830',\n 'UzpfSTExNzk5MTI0NTQ5ODI4OTo4NDMxNTI0NjI5ODIxNjA6ODQzMTUyNDYyOTgyMTYw',\n 'UzpfSTExNzk5MTI0NTQ5ODI4OTo4NDMxNTI0NjI5ODIxNjA6ODQzMTUyNDYyOTgyMTYw',\n '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',\n 'UzpfSTEwMDAxMzMyMzk2MTQ5ODoxMTY4OTcyMDM2ODkwMjUxOjExNjg5NzIwMzY4OTAyNTE=',\n '100013323961498',\n '1055294588257997',\n 'UzpfSTEwMDAxMzMyMzk2MTQ5ODoxMTY4OTcyMDM2ODkwMjUxOjExNjg5NzIwMzY4OTAyNTE=',\n '2986e33e000d37a21e28b93ab312cb67',\n 'cHJpdmFjeV9zY29wZV9yZW5kZXJlcjp7ImlkIjoxMTY4OTcyMDM2ODkwMjUxfQ',\n 'cHJpdmFjeV9zY29wZV9yZW5kZXJlcjp7ImlkIjoxMTY4OTcyMDM2ODkwMjUxfQ',\n 'UzpfSTEwMDAxMzMyMzk2MTQ5ODoxMTY4OTcyMDM2ODkwMjUxOjExNjg5NzIwMzY4OTAyNTE=',\n 'UzpfSTEwMDAxMzMyMzk2MTQ5ODoxMTY4OTcyMDM2ODkwMjUxOjExNjg5NzIwMzY4OTAyNTE=',\n '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',\n '100013323961498']"
     },
     "execution_count": 30,
     "metadata": {},
     "output_type": "execute_result"
    }
   ],
   "source": [
    "import re\n",
    "\n",
    "post_id_search = re.findall(r'\"id\":\"([^*\"]+)\"', response.text)\n",
    "post_id_search"
   ],
   "metadata": {
    "collapsed": false,
    "ExecuteTime": {
     "end_time": "2023-06-22T10:04:27.564092900Z",
     "start_time": "2023-06-22T10:04:27.557731400Z"
    }
   }
  },
  {
   "cell_type": "code",
   "execution_count": null,
   "outputs": [],
   "source": [],
   "metadata": {
    "collapsed": false
   }
  }
 ],
 "metadata": {
  "kernelspec": {
   "display_name": "Python 3",
   "language": "python",
   "name": "python3"
  },
  "language_info": {
   "codemirror_mode": {
    "name": "ipython",
    "version": 2
   },
   "file_extension": ".py",
   "mimetype": "text/x-python",
   "name": "python",
   "nbconvert_exporter": "python",
   "pygments_lexer": "ipython2",
   "version": "2.7.6"
  }
 },
 "nbformat": 4,
 "nbformat_minor": 0
}
