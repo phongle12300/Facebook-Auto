{
 "cells": [
  {
   "cell_type": "code",
   "execution_count": 46,
   "outputs": [],
   "source": [
    "import requests, re\n",
    "from datetime import datetime\n",
    "from queue import Queue\n",
    "from bs4 import BeautifulSoup as bs\n",
    "from threading import Thread\n",
    "from time import  sleep"
   ],
   "metadata": {
    "collapsed": false,
    "ExecuteTime": {
     "end_time": "2023-06-24T07:52:03.315643800Z",
     "start_time": "2023-06-24T07:52:03.305009300Z"
    }
   }
  },
  {
   "cell_type": "code",
   "execution_count": 42,
   "outputs": [],
   "source": [
    "def parseCookieRaw(cookies: str) -> dict[str]:\n",
    "    result = dict()\n",
    "    cookiesArr = cookies.split(\";\")\n",
    "    cookiesArr = [cookieItem.strip() for cookieItem in cookiesArr]\n",
    "    for cookieItem in cookiesArr:\n",
    "        cookieItemArr = cookieItem.split(\"=\")\n",
    "        result[cookieItemArr[0]] = cookieItemArr[1]\n",
    "    return result"
   ],
   "metadata": {
    "collapsed": false,
    "ExecuteTime": {
     "end_time": "2023-06-24T07:49:47.282698500Z",
     "start_time": "2023-06-24T07:49:47.277204500Z"
    }
   }
  },
  {
   "cell_type": "code",
   "execution_count": 43,
   "outputs": [],
   "source": [
    "def convertDateToTimestamp(input_year = datetime.now().year):\n",
    "    if input_year == datetime.now().year:\n",
    "        day = datetime.now().day\n",
    "        month = datetime.now().month\n",
    "        date_string = f'{month}/{day}/{input_year}, 11:59:59 PM'\n",
    "    else:\n",
    "        date_string = f'12/31/{input_year}, 11:59:59 PM'\n",
    "    date_format = '%m/%d/%Y, %I:%M:%S %p'\n",
    "    timestamp = datetime.strptime(date_string, date_format).replace(microsecond=0).timestamp()\n",
    "    return str(int(timestamp))"
   ],
   "metadata": {
    "collapsed": false,
    "ExecuteTime": {
     "end_time": "2023-06-24T07:49:47.857680600Z",
     "start_time": "2023-06-24T07:49:47.851697500Z"
    }
   }
  },
  {
   "cell_type": "code",
   "execution_count": 45,
   "outputs": [],
   "source": [
    "def getFb_dtsg(cookies: dict[str]) -> str:\n",
    "    HEADERS_GET_FB_DTSG = {\n",
    "        'authority': 'mbasic.facebook.com',\n",
    "        'accept': 'text/html,application/xhtml+xml,application/xml;q=0.9,image/avif,image/webp,image/apng,*/*;q=0.8,application/signed-exchange;v=b3;q=0.7',\n",
    "        'accept-language': 'vi-VN,vi;q=0.9,fr-FR;q=0.8,fr;q=0.7,en-US;q=0.6,en;q=0.5',\n",
    "        'cache-control': 'no-cache',\n",
    "        'pragma': 'no-cache',\n",
    "        'sec-ch-ua': '\"Chromium\";v=\"112\", \"Google Chrome\";v=\"112\", \"Not:A-Brand\";v=\"99\"',\n",
    "        'sec-ch-ua-mobile': '?0',\n",
    "        'sec-ch-ua-platform': '\"Windows\"',\n",
    "        'sec-fetch-dest': 'document',\n",
    "        'sec-fetch-mode': 'navigate',\n",
    "        'sec-fetch-site': 'none',\n",
    "        'sec-fetch-user': '?1',\n",
    "        'upgrade-insecure-requests': '1',\n",
    "        'user-agent': 'Mozilla/5.0 (Windows NT 10.0; Win64; x64) AppleWebKit/537.36 (KHTML, like Gecko) Chrome/112.0.0.0 Safari/537.36',\n",
    "      }\n",
    "    try:\n",
    "      response = requests.get('https://mbasic.facebook.com/me/', cookies=cookies, headers=HEADERS_GET_FB_DTSG)\n",
    "      soup = bs(response.content, 'html.parser')\n",
    "      fb_dtsg = soup.find('input', {'name': 'fb_dtsg'}).get('value')\n",
    "      return fb_dtsg\n",
    "    except Exception as e:\n",
    "      print(e)\n",
    "      return\n"
   ],
   "metadata": {
    "collapsed": false,
    "ExecuteTime": {
     "end_time": "2023-06-24T07:50:58.326798Z",
     "start_time": "2023-06-24T07:50:58.322039100Z"
    }
   }
  },
  {
   "cell_type": "code",
   "execution_count": 71,
   "metadata": {
    "collapsed": true,
    "ExecuteTime": {
     "end_time": "2023-06-24T08:17:54.595679200Z",
     "start_time": "2023-06-24T08:17:54.590862800Z"
    }
   },
   "outputs": [],
   "source": [
    "def getListPostOnFacebook(cookies: dict[str], fb_dtsg: str, year: int, list_Post_Queue: Queue):\n",
    "  uid = cookies['c_user']\n",
    "  headers = {\n",
    "      'authority': 'www.facebook.com',\n",
    "      'accept': '*/*',\n",
    "      'accept-language': 'en-US,en;q=0.9,vi;q=0.8',\n",
    "      'content-type': 'application/x-www-form-urlencoded',\n",
    "      'origin': 'https://www.facebook.com',\n",
    "      'referer': 'https://www.facebook.com/truongnhudatt/',\n",
    "      'sec-ch-prefers-color-scheme': 'light',\n",
    "      'sec-ch-ua': '\"Not.A/Brand\";v=\"8\", \"Chromium\";v=\"114\", \"Google Chrome\";v=\"114\"',\n",
    "      'sec-ch-ua-full-version-list': '\"Not.A/Brand\";v=\"8.0.0.0\", \"Chromium\";v=\"114.0.5735.134\", \"Google Chrome\";v=\"114.0.5735.134\"',\n",
    "      'sec-ch-ua-mobile': '?0',\n",
    "      'sec-ch-ua-platform': '\"Windows\"',\n",
    "      'sec-ch-ua-platform-version': '\"10.0.0\"',\n",
    "      'sec-fetch-dest': 'empty',\n",
    "      'sec-fetch-mode': 'cors',\n",
    "      'sec-fetch-site': 'same-origin',\n",
    "      'user-agent': 'Mozilla/5.0 (Windows NT 10.0; Win64; x64) AppleWebKit/537.36 (KHTML, like Gecko) Chrome/114.0.0.0 Safari/537.36',\n",
    "      'viewport-width': '935',\n",
    "      'x-asbd-id': '129477',\n",
    "      'x-fb-friendly-name': 'ProfileCometTimelineFeedRefetchQuery',\n",
    "      'x-fb-lsd': 'FPaahspEeikWFdUA1nBFxJ',\n",
    "  }\n",
    "  end_cursor = \"\"\n",
    "  has_next_page = True\n",
    "  beforeTime = convertDateToTimestamp(year)\n",
    "  try:\n",
    "    while has_next_page:\n",
    "      data = {\n",
    "          'av': uid ,\n",
    "          'fb_dtsg': fb_dtsg,\n",
    "          'jazoest': '25633',\n",
    "          'lsd': 'FPaahspEeikWFdUA1nBFxJ',\n",
    "          'fb_api_caller_class': 'RelayModern',\n",
    "          'fb_api_req_friendly_name': 'ProfileCometTimelineFeedRefetchQuery',\n",
    "          'variables': '{\"UFI2CommentsProvider_commentsKey\":\"ProfileCometTimelineRoute\",\"afterTime\":null,\"beforeTime\":'+beforeTime+',\"count\":3,\"cursor\":\"'+end_cursor+'\",\"displayCommentsContextEnableComment\":null,\"displayCommentsContextIsAdPreview\":null,\"displayCommentsContextIsAggregatedShare\":null,\"displayCommentsContextIsStorySet\":null,\"displayCommentsFeedbackContext\":null,\"feedLocation\":\"TIMELINE\",\"feedbackSource\":0,\"focusCommentID\":null,\"memorializedSplitTimeFilter\":null,\"omitPinnedPost\":true,\"postedBy\":{\"group\":\"OWNER\"},\"privacy\":{\"exclusivity\":\"INCLUSIVE\",\"filter\":\"ALL\"},\"privacySelectorRenderLocation\":\"COMET_STREAM\",\"renderLocation\":\"timeline\",\"scale\":1,\"stream_count\":10,\"taggedInOnly\":null,\"useDefaultActor\":false,\"id\":\"'+uid+'\",\"__relay_internal__pv__GroupsCometDelayCheckBlockedUsersrelayprovider\":false,\"__relay_internal__pv__IsWorkUserrelayprovider\":false,\"__relay_internal__pv__IsMergQAPollsrelayprovider\":false,\"__relay_internal__pv__StoriesArmadilloReplyEnabledrelayprovider\":false,\"__relay_internal__pv__StoriesRingrelayprovider\":false}',\n",
    "          'server_timestamps': 'true',\n",
    "          'doc_id': '9321508997924101',\n",
    "      }\n",
    "      response = requests.post('https://www.facebook.com/api/graphql/', cookies=cookies, headers=headers, data=data)\n",
    "      post_id = re.findall(r'\"post_id\":\"(\\d+)\"', response.text)\n",
    "      storyID = re.findall(r'\"id\":\"(U[^\"]+=)\",\"comet_sections', response.text)\n",
    "      if storyID:\n",
    "        print(post_id)\n",
    "        print(storyID)\n",
    "        print(len(post_id))\n",
    "        print(len(storyID))\n",
    "        # _ = list(map(list_Post_Queue.put, id_match))\n",
    "      else:\n",
    "        break\n",
    "      has_next_page_match = re.search(r'\"has_next_page\":(\\w+)', response.text)\n",
    "      if has_next_page_match:\n",
    "        has_next_page = bool(has_next_page_match.group(1))\n",
    "      end_cursor_match = re.search(r'\"end_cursor\":\"([^\"]+)\"', response.text)\n",
    "      if end_cursor_match:\n",
    "        end_cursor = end_cursor_match.group(1)\n",
    "  except Exception as e:\n",
    "    print(e)"
   ]
  },
  {
   "cell_type": "code",
   "execution_count": null,
   "outputs": [
    {
     "name": "stdout",
     "output_type": "stream",
     "text": [
      "['1767099797077469', '1742533729534076', '1717361968717919']\n",
      "['UzpfSTEwMDAxMzMyMzk2MTQ5ODoxNzY3MDk5Nzk3MDc3NDY5OjE3NjcwOTk3OTcwNzc0Njk=', 'UzpfSTEwMDAxMzMyMzk2MTQ5ODoxNzQyNTMzNzI5NTM0MDc2OjE3NDI1MzM3Mjk1MzQwNzY=', 'UzpfSTEwMDAxMzMyMzk2MTQ5ODoxNzE3MzYxOTY4NzE3OTE5OjE3MTczNjE5Njg3MTc5MTk=']\n",
      "3\n",
      "3\n",
      "['1568357650285019', '1690403278080455', '1675742806213169']\n",
      "['UzpfSTEwMDAxMzMyMzk2MTQ5ODoxNTY4MzU3NjUwMjg1MDE5OjExMzU3NTIxMDcxMDQ1NjQ=', 'UzpfSTEwMDAxMzMyMzk2MTQ5ODoxNjkwNDAzMjc4MDgwNDU1OjYwMDYzNDg3Njk0MjkwMjA=', 'UzpfSTEwMDAxMzMyMzk2MTQ5ODoxNjc1NzQyODA2MjEzMTY5OjE2NzU3NDI4MDYyMTMxNjk=']\n",
      "3\n",
      "3\n",
      "['1623346834786100', '1616111178842999', '1615360672251383']\n",
      "['UzpfSTY0ODU0MTgyNTMwNjk5MjoyMjgxMTk0ODc1Mzc1MDA0OjIyODExOTQ4NzUzNzUwMDQ=', 'UzpfSTEwMDAxMzMyMzk2MTQ5ODoxNjIzMzQ2ODM0Nzg2MTAwOjE2MjMzNDY4MzQ3ODYxMDA=', 'UzpfSTEwMDAxMzMyMzk2MTQ5ODoxNjE2MTExMTc4ODQyOTk5OjE2MTYxMTExNzg4NDI5OTk=', 'UzpfSTEwMDAxMzMyMzk2MTQ5ODoxNjE1MzYwNjcyMjUxMzgzOjE2MTUzNjA2NzIyNTEzODM=']\n",
      "3\n",
      "4\n",
      "['1607966739657443', '5939258896119298', '1590579408062843']\n",
      "['UzpfSTEwMDAxMzMyMzk2MTQ5ODoxNjA3OTY2NzM5NjU3NDQzOjE2MDc5NjY3Mzk2NTc0NDM=', 'UzpfSTEwMDAxMzMyMzk2MTQ5ODo1OTM5MjU4ODk2MTE5Mjk4OjI5ODgxMTgxNzE0ODcxNTQ=', 'UzpfSTEwMDAxMzMyMzk2MTQ5ODoxNTkwNTc5NDA4MDYyODQzOjE1OTA1Nzk0MDgwNjI4NDM=']\n",
      "3\n",
      "3\n",
      "['1590041154783335', '1585231438597640', '1567675870353197']\n",
      "['UzpfSTEwMDAxMzMyMzk2MTQ5ODoxNTkwMDQxMTU0NzgzMzM1OjE1OTAwNDExNTQ3ODMzMzU=', 'UzpfSTEwMDAwNzM1NTUyOTk3NTozMjIwNTg2Njk0ODYzMTUwOjMyMjA1ODY2OTQ4NjMxNTA=', 'UzpfSTEwMDAxMzMyMzk2MTQ5ODoxNTg1MjMxNDM4NTk3NjQwOjE1ODUyMzE0Mzg1OTc2NDA=', 'UzpfSTEwMDAxMzMyMzk2MTQ5ODoxNTY3Njc1ODcwMzUzMTk3OjE1Njc2NzU4NzAzNTMxOTc=']\n",
      "3\n",
      "4\n",
      "['1559436217843829', '1554188695035248', '1537124973408287']\n",
      "['UzpfSTEwMDAxMzMyMzk2MTQ5ODoxNTU5NDM2MjE3ODQzODI5OjE1NTk0MzYyMTc4NDM4Mjk=', 'UzpfSTEwMDAxMzMyMzk2MTQ5ODoxNTU0MTg4Njk1MDM1MjQ4OjE1NTQxODg2OTUwMzUyNDg=', 'UzpfSTc2MDEzMDQ5MzoxMDE2NjgyNDk5NDY5MDQ5NDoxMDE2NjgyNDk5NDY5MDQ5NA==', 'UzpfSTEwMDAxMzMyMzk2MTQ5ODoxNTM3MTI0OTczNDA4Mjg3OjE1MzcxMjQ5NzM0MDgyODc=']\n",
      "3\n",
      "4\n"
     ]
    }
   ],
   "source": [
    "cookies = parseCookieRaw(\"sb=ttpvZI7d9xfsOc9zFyV0vW4l; dpr=1.100000023841858; usida=eyJ2ZXIiOjEsImlkIjoiQXJ3cDVudDFuOG15dDciLCJ0aW1lIjoxNjg3NTA4MjAxfQ%3D%3D; locale=vi_VN; datr=k56WZKQ1Pvs0DBT_sPzmFhb2; c_user=100013323961498; xs=47%3A9eTlA0cT9kzJPg%3A2%3A1687592672%3A-1%3A6253; fr=0UZz7aQXaYkhvU7Ez.AWVf7IjgAxEUWBTjDW5e5v99pB4.Bkln8R.a_.AAA.0.0.Bklp7i.AWV8oczjuP4; wd=1065x861; presence=C%7B%22t3%22%3A%5B%7B%22i%22%3A%22g.4088083211206594%22%7D%5D%2C%22utc3%22%3A1687593312166%2C%22v%22%3A1%7D\")\n",
    "fb_dtsg = getFb_dtsg(cookies)\n",
    "list_Post_Queue = Queue()\n",
    "getListPostOnFacebook(cookies, fb_dtsg, 2023, list_Post_Queue)"
   ],
   "metadata": {
    "collapsed": false,
    "is_executing": true,
    "ExecuteTime": {
     "start_time": "2023-06-24T08:17:54.835174Z"
    }
   }
  },
  {
   "cell_type": "code",
   "execution_count": null,
   "outputs": [],
   "source": [
    "def removePost(cookies: dict[str],fb_dtsg: str,  list_Post_Queue: Queue):\n",
    "    headers = {\n",
    "        'authority': 'www.facebook.com',\n",
    "        'accept': '*/*',\n",
    "        'accept-language': 'en-US,en;q=0.9',\n",
    "        'content-type': 'application/x-www-form-urlencoded',\n",
    "        'origin': 'https://www.facebook.com',\n",
    "        'referer': 'https://www.facebook.com',\n",
    "        'sec-ch-prefers-color-scheme': 'light',\n",
    "        'sec-ch-ua': '\"Chromium\";v=\"103\", \".Not/A)Brand\";v=\"99\"',\n",
    "        'sec-ch-ua-full-version-list': '\"Chromium\";v=\"103.0.5060.134\", \".Not/A)Brand\";v=\"99.0.0.0\"',\n",
    "        'sec-ch-ua-mobile': '?0',\n",
    "        'sec-ch-ua-platform': '\"Windows\"',\n",
    "        'sec-ch-ua-platform-version': '\"10.0.0\"',\n",
    "        'sec-fetch-dest': 'empty',\n",
    "        'sec-fetch-mode': 'cors',\n",
    "        'sec-fetch-site': 'same-origin',\n",
    "        'user-agent': 'Mozilla/5.0 (Windows NT 10.0; Win64; x64) AppleWebKit/537.36 (KHTML, like Gecko) Chrome/103.0.5060.134 Safari/537.36',\n",
    "        'viewport-width': '1132',\n",
    "        'x-asbd-id': '129477',\n",
    "        'x-fb-friendly-name': 'useCometTrashPostMutation',\n",
    "        'x-fb-lsd': 'paVhHmefIHy5g8EsbMvA1c',\n",
    "    }\n",
    "    while True:\n",
    "        idd = list_Post_Queue.get()\n",
    "        if idd is None:\n",
    "            continue\n",
    "        elif idd == \"Null\":\n",
    "            break\n",
    "        else:\n",
    "            story_id = getStoryIDFromUrl(cookies, idd)\n",
    "            if story_id:\n",
    "                data = {\n",
    "                    'av': cookies['c_user'],\n",
    "                    '__a': '1',\n",
    "                    '__comet_req': '15',\n",
    "                    'fb_dtsg': fb_dtsg,\n",
    "                    'fb_api_caller_class': 'RelayModern',\n",
    "                    'fb_api_req_friendly_name': 'useCometTrashPostMutation',\n",
    "                    'variables': '{\"input\":{\"story_id\":\"' + story_id + '\",\"story_location\":\"TIMELINE\",\"actor_id\":\"' +\n",
    "                                 cookies['c_user'] + '\",\"client_mutation_id\":\"1\"}}',\n",
    "                    'server_timestamps': 'true',\n",
    "                    'doc_id': '7003056599769350',\n",
    "                }\n",
    "                try:\n",
    "                    with requests.Session() as ses:\n",
    "                        response = ses.post('https://www.facebook.com/api/graphql/', cookies=cookies, headers=headers,\n",
    "                                            data=data)\n",
    "                        print(response.text)\n",
    "                except Exception as e:\n",
    "                    print(e)\n",
    "                    pass"
   ],
   "metadata": {
    "collapsed": false
   }
  },
  {
   "cell_type": "code",
   "execution_count": 35,
   "outputs": [
    {
     "name": "stdout",
     "output_type": "stream",
     "text": [
      "[None, None, None]\n"
     ]
    }
   ],
   "source": [
    "list_Post_Queue = Queue()\n"
   ],
   "metadata": {
    "collapsed": false,
    "ExecuteTime": {
     "end_time": "2023-06-24T06:11:18.314647Z",
     "start_time": "2023-06-24T06:11:15.317637Z"
    }
   }
  },
  {
   "cell_type": "code",
   "execution_count": null,
   "outputs": [],
   "source": [],
   "metadata": {
    "collapsed": false
   }
  }
 ],
 "metadata": {
  "kernelspec": {
   "display_name": "Python 3",
   "language": "python",
   "name": "python3"
  },
  "language_info": {
   "codemirror_mode": {
    "name": "ipython",
    "version": 2
   },
   "file_extension": ".py",
   "mimetype": "text/x-python",
   "name": "python",
   "nbconvert_exporter": "python",
   "pygments_lexer": "ipython2",
   "version": "2.7.6"
  }
 },
 "nbformat": 4,
 "nbformat_minor": 0
}
