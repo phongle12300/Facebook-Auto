{
 "cells": [
  {
   "cell_type": "code",
   "execution_count": null,
   "metadata": {
    "collapsed": true,
    "is_executing": true,
    "ExecuteTime": {
     "start_time": "2023-06-22T06:08:58.893054900Z"
    }
   },
   "outputs": [],
   "source": [
    "from selenium import webdriver\n",
    "from selenium.webdriver.chrome.options import Options\n",
    "from threading import Thread\n",
    "from time import sleep\n",
    "# Kích thước và vị trí của cửa sổ trình duyệt\n",
    "WINDOW_WIDTH = 320\n",
    "WINDOW_HEIGHT = 480\n",
    "\n",
    "def run_selenium_thread(url, left, top):\n",
    "    chrome_options = Options()\n",
    "    # Cấu hình tùy chọn để chạy Selenium ở chế độ không giao diện\n",
    "    # chrome_options.add_argument(\"--headless\")\n",
    "    driver = webdriver.Chrome()\n",
    "\n",
    "    # Đặt kích thước cửa sổ trình duyệt\n",
    "    driver.set_window_size(WINDOW_WIDTH, WINDOW_HEIGHT)\n",
    "\n",
    "    # Đặt vị trí cửa sổ trình duyệt\n",
    "    driver.set_window_position(left, top)\n",
    "\n",
    "    driver.get(url)\n",
    "    sleep(10)\n",
    "    # Thực hiện các thao tác Selenium khác tại đây\n",
    "    # Ví dụ: driver.find_element(By.ID, 'element_id').click()\n",
    "\n",
    "    driver.quit()\n",
    "\n",
    "# Danh sách các URL cần truy cập\n",
    "urls = ['https://example.com', 'https://google.com', 'https://facebook.com']\n",
    "\n",
    "# Tính toán kích thước màn hình\n",
    "# Tính toán vị trí ban đầu cho các cửa sổ trình duyệt\n",
    "num_windows = len(urls)\n",
    "window_width = WINDOW_WIDTH + 10  # Khoảng cách giữa các cửa sổ\n",
    "total_width = num_windows * window_width\n",
    "start_left = (1920 - total_width) // 2\n",
    "start_top = (1080 - WINDOW_HEIGHT) // 2\n",
    "\n",
    "# Tạo danh sách các luồng Selenium\n",
    "threads = []\n",
    "for i, url in enumerate(urls):\n",
    "    left = start_left + (i * window_width)\n",
    "    top = start_top\n",
    "    t = Thread(target=run_selenium_thread, args=(url, left, top))\n",
    "    t.start()\n",
    "    threads.append(t)\n",
    "\n",
    "# Chờ cho tất cả các luồng hoàn thành\n",
    "for t in threads:\n",
    "    t.join()\n"
   ]
  },
  {
   "cell_type": "code",
   "execution_count": null,
   "outputs": [],
   "source": [],
   "metadata": {
    "collapsed": false
   }
  }
 ],
 "metadata": {
  "kernelspec": {
   "display_name": "Python 3",
   "language": "python",
   "name": "python3"
  },
  "language_info": {
   "codemirror_mode": {
    "name": "ipython",
    "version": 2
   },
   "file_extension": ".py",
   "mimetype": "text/x-python",
   "name": "python",
   "nbconvert_exporter": "python",
   "pygments_lexer": "ipython2",
   "version": "2.7.6"
  }
 },
 "nbformat": 4,
 "nbformat_minor": 0
}
