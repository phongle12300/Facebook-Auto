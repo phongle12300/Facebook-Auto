{
 "cells": [
  {
   "cell_type": "code",
   "execution_count": 77,
   "outputs": [],
   "source": [
    "import requests\n",
    "from datetime import datetime"
   ],
   "metadata": {
    "collapsed": false,
    "ExecuteTime": {
     "end_time": "2023-06-23T11:52:46.581689800Z",
     "start_time": "2023-06-23T11:52:46.577191600Z"
    }
   }
  },
  {
   "cell_type": "code",
   "execution_count": 80,
   "outputs": [],
   "source": [
    "cookies = {\n",
    "    'sb': 'ttpvZI7d9xfsOc9zFyV0vW4l',\n",
    "    'datr': 'vqKBZLbu4PGRjrXWlkKH0_w4',\n",
    "    'c_user': '100013323961498',\n",
    "    'm_page_voice': '100013323961498',\n",
    "    'dpr': '1.100000023841858',\n",
    "    'usida': 'eyJ2ZXIiOjEsImlkIjoiQXJ3cDVudDFuOG15dDciLCJ0aW1lIjoxNjg3NTA4MjAxfQ%3D%3D',\n",
    "    'xs': '47%3APwPMsmfVxU3_fA%3A2%3A1686238466%3A-1%3A6253%3A%3AAcXoMQt2_eu0KK1nrle-WbesAP--B-JD4jWn93-VO-Ig',\n",
    "    'fr': '03XK43cwjUl8rk2Tv.AWWF2yXCgnkZf2vFvuWiF0UT5ig.BklXQr.do.AAA.0.0.BklXQr.AWXA3vE8THU',\n",
    "    'presence': 'C%7B%22t3%22%3A%5B%5D%2C%22utc3%22%3A1687518908096%2C%22v%22%3A1%7D',\n",
    "    'wd': '1065x861',\n",
    "}\n",
    "\n",
    "headers = {\n",
    "    'authority': 'www.facebook.com',\n",
    "    'accept': '*/*',\n",
    "    'accept-language': 'en-US,en;q=0.9,vi;q=0.8',\n",
    "    'content-type': 'application/x-www-form-urlencoded',\n",
    "    'origin': 'https://www.facebook.com',\n",
    "    'referer': 'https://www.facebook.com/me/',\n",
    "    'sec-ch-prefers-color-scheme': 'light',\n",
    "    'sec-ch-ua': '\"Not.A/Brand\";v=\"8\", \"Chromium\";v=\"114\", \"Google Chrome\";v=\"114\"',\n",
    "    'sec-ch-ua-full-version-list': '\"Not.A/Brand\";v=\"8.0.0.0\", \"Chromium\";v=\"114.0.5735.134\", \"Google Chrome\";v=\"114.0.5735.134\"',\n",
    "    'sec-ch-ua-mobile': '?0',\n",
    "    'sec-ch-ua-platform': '\"Windows\"',\n",
    "    'sec-ch-ua-platform-version': '\"10.0.0\"',\n",
    "    'sec-fetch-dest': 'empty',\n",
    "    'sec-fetch-mode': 'cors',\n",
    "    'sec-fetch-site': 'same-origin',\n",
    "    'user-agent': 'Mozilla/5.0 (Windows NT 10.0; Win64; x64) AppleWebKit/537.36 (KHTML, like Gecko) Chrome/114.0.0.0 Safari/537.36',\n",
    "    'viewport-width': '1065',\n",
    "    'x-asbd-id': '129477',\n",
    "    'x-fb-friendly-name': 'ProfileCometTimelineFeedRefetchQuery',\n",
    "    'x-fb-lsd': 'H3OmeZbGrJWfQHsH4lhXoU',\n",
    "}\n",
    "\n",
    "data = {\n",
    "    'av': '100013323961498',\n",
    "    '__user': '100013323961498',\n",
    "    '__a': '1',\n",
    "    '__req': '18f',\n",
    "    '__hs': '19531.HYP:comet_pkg.2.1..2.1',\n",
    "    'dpr': '1.5',\n",
    "    '__ccg': 'EXCELLENT',\n",
    "    '__rev': '1007734535',\n",
    "    '__s': 'hdf105:wqx9mk:napp89',\n",
    "    '__hsi': '7247813898906109793',\n",
    "    '__dyn': '7AzHJ16UW5A9Uvxt0koC8G6EjheC2-m1xDwAxu13wFwhUKbgS3qi4EObwyzE5S3O2Saxa1NwJwkEkwUx60xU8k1sw9u0LVEtwMw65xOfxOU7m2210wEwgolzUO0wE7u12wOx62G5Usw9m1cwLwBgK7o8417wIw9i1axe3S7Udo5qfK0zEkxe2GexeeDwkUtxGm2SUbElxm3y3aexfxmu3W3jU8o4qum7-8wywdG7FoarCwLyESE6C14wwwOg2cwMwhA4UjwTwNxe6Uak2-362S269wkopg6C',\n",
    "    '__csr': 'g4D1b347aMtlsQhcx4AQJn9sZTYOlrlN59jj9hri25hqpffRh7ntN5laRiZ4-hJfAlHGRA_uB-e8F7HABV9lybGQQqlCh6XWLt4qiGAnvSBO5Ch9d2FXGAtCJkh4CyGDVpeFQpyEiSbADz4mGzQip4GTK-4pqy9qBjKiVODCyJDye4GHUihF8ExoSbzXRpojGfS58WVeQiqdAGHJ1a8KVUgxhdypXUHhryoGRyo-i2h7AA-q549yGxCqFpuapUKdKuEKbDDCByrx66Vo99qxGayUy2yfAAzErBxamUlzRhUkxacypbwRyo88G5EiUtqyo4OVojGa-8Kl28Km3e3e4qAxHzGxy0BZACGHwg6_w0Cgwv80ax7bl06xG14wfxKQ316l90yw6Bw4FwKCyo0_60WU0OR00stAi0eKw1wC06oA1Axy0i-0Bo17A6E7e092xi5cyw4gDPxq1dl55k89cvyxl7isXEq2B0pUfQ7U5B04nwlE2BwWwFwno2OwzG0jOq2m0z-1-w3q8aK9w3cA1rzA0iy16c0F80-2vw4A83qfwal3U6O0pl0kU2nAo4q0nG0mil3qy85qiim484R0uU0zowlDw2-o4q0WU0xV6DxqgAU46by8C0ZU09LVQaEE0MG8w9tx26u0qi2m1wwvk0DofUgAQhwny0c-0kK1xwfGOU1bC684W1uwegLhkiewnk3O0e8x904Hw',\n",
    "    '__comet_req': '15',\n",
    "    'fb_dtsg': 'NAcNzYQTO9gBWBna_1EAWL13nV6Qa5P5sxZdBm3JsfWMOWxGUFJXRDg:47:1686238466',\n",
    "    'jazoest': '25302',\n",
    "    'lsd': 'H3OmeZbGrJWfQHsH4lhXoU',\n",
    "    '__spin_r': '1007734535',\n",
    "    '__spin_b': 'trunk',\n",
    "    '__spin_t': '1687513174',\n",
    "    'fb_api_caller_class': 'RelayModern',\n",
    "    'fb_api_req_friendly_name': 'ProfileCometTimelineFeedRefetchQuery',\n",
    "    'variables': '{\"UFI2CommentsProvider_commentsKey\":\"ProfileCometTimelineRoute\",\"afterTime\":null,\"beforeTime\":1672505999,\"count\":3,\"cursor\":null,\"displayCommentsContextEnableComment\":null,\"displayCommentsContextIsAdPreview\":null,\"displayCommentsContextIsAggregatedShare\":null,\"displayCommentsContextIsStorySet\":null,\"displayCommentsFeedbackContext\":null,\"feedLocation\":\"TIMELINE\",\"feedbackSource\":0,\"focusCommentID\":null,\"memorializedSplitTimeFilter\":null,\"omitPinnedPost\":true,\"postedBy\":{\"group\":\"OWNER\"},\"privacy\":{\"exclusivity\":\"EXCLUSIVE\",\"filter\":\"FRIENDS\"},\"privacySelectorRenderLocation\":\"COMET_STREAM\",\"renderLocation\":\"timeline\",\"scale\":1.5,\"stream_count\":1,\"taggedInOnly\":false,\"useDefaultActor\":false,\"id\":\"100013323961498\",\"__relay_internal__pv__GroupsCometDelayCheckBlockedUsersrelayprovider\":false,\"__relay_internal__pv__IsWorkUserrelayprovider\":false,\"__relay_internal__pv__IsMergQAPollsrelayprovider\":false,\"__relay_internal__pv__StoriesArmadilloReplyEnabledrelayprovider\":false,\"__relay_internal__pv__StoriesRingrelayprovider\":false}',\n",
    "    'server_timestamps': 'true',\n",
    "    'doc_id': '6169917553134863',\n",
    "}\n",
    "\n",
    "response = requests.post('https://www.facebook.com/api/graphql/', cookies=cookies, headers=headers, data=data)"
   ],
   "metadata": {
    "collapsed": false,
    "ExecuteTime": {
     "end_time": "2023-06-23T11:56:19.931281400Z",
     "start_time": "2023-06-23T11:56:19.057739600Z"
    }
   }
  },
  {
   "cell_type": "code",
   "execution_count": null,
   "outputs": [],
   "source": [
    "response.text"
   ],
   "metadata": {
    "collapsed": false
   }
  },
  {
   "cell_type": "code",
   "execution_count": 81,
   "outputs": [
    {
     "data": {
      "text/plain": "['false']"
     },
     "execution_count": 81,
     "metadata": {},
     "output_type": "execute_result"
    }
   ],
   "source": [
    "import  re\n",
    "has_next_page = re.findall(r'\"has_next_page\":(\\w+)', response.text)\n",
    "has_next_page\n",
    "# privacy_write_ids = re.findall(r'\"privacy_write_id\":\"([^*\"]+)\"', response.text)\n",
    "# print(set(privacy_write_ids))\n",
    "# post_ids = re.findall(r'\"post_id\":\"([^*\"]+)\"', response.text)\n",
    "# post_ids"
   ],
   "metadata": {
    "collapsed": false,
    "ExecuteTime": {
     "end_time": "2023-06-23T11:56:21.108057500Z",
     "start_time": "2023-06-23T11:56:21.103562Z"
    }
   }
  },
  {
   "cell_type": "code",
   "execution_count": 7,
   "outputs": [
    {
     "data": {
      "text/plain": "1672505999"
     },
     "execution_count": 7,
     "metadata": {},
     "output_type": "execute_result"
    }
   ],
   "source": [
    "from datetime import datetime\n",
    "\n",
    "def convertDateToTimestamp(year = datetime.now().year):\n",
    "    if year == datetime.now().year:\n",
    "        day = datetime.now().day\n",
    "        month = datetime.now().month\n",
    "        date_string = f'{month}/{day}/{year}, 11:59:59 PM'\n",
    "    else:\n",
    "        date_string = f'12/31/{year}, 11:59:59 PM'\n",
    "    date_format = '%m/%d/%Y, %I:%M:%S %p'\n",
    "    timestamp = datetime.strptime(date_string, date_format).replace(microsecond=0).timestamp()\n",
    "    return int(timestamp)\n",
    "convertDateToTimestamp(2022)"
   ],
   "metadata": {
    "collapsed": false,
    "ExecuteTime": {
     "end_time": "2023-06-24T05:34:14.066561600Z",
     "start_time": "2023-06-24T05:34:14.042834600Z"
    }
   }
  },
  {
   "cell_type": "code",
   "execution_count": 76,
   "outputs": [],
   "source": [
    "def change_privacy(cookies, fb_dtsg, privacy_write_id, base_state):\n",
    "    uid = cookies['c_user']\n",
    "    headers = {\n",
    "        'authority': 'www.facebook.com',\n",
    "        'accept': '*/*',\n",
    "        'accept-language': 'en-US,en;q=0.9,vi;q=0.8',\n",
    "        'cache-control': 'no-cache',\n",
    "        'content-type': 'application/x-www-form-urlencoded',\n",
    "        'origin': 'https://www.facebook.com',\n",
    "        'pragma': 'no-cache',\n",
    "        'sec-ch-prefers-color-scheme': 'light',\n",
    "        'sec-ch-ua': '\"Not.A/Brand\";v=\"8\", \"Chromium\";v=\"114\", \"Google Chrome\";v=\"114\"',\n",
    "        'sec-ch-ua-full-version-list': '\"Not.A/Brand\";v=\"8.0.0.0\", \"Chromium\";v=\"114.0.5735.134\", \"Google Chrome\";v=\"114.0.5735.134\"',\n",
    "        'sec-ch-ua-mobile': '?0',\n",
    "        'sec-ch-ua-platform': '\"Windows\"',\n",
    "        'sec-ch-ua-platform-version': '\"10.0.0\"',\n",
    "        'sec-fetch-dest': 'empty',\n",
    "        'sec-fetch-mode': 'cors',\n",
    "        'sec-fetch-site': 'same-origin',\n",
    "        'user-agent': 'Mozilla/5.0 (Windows NT 10.0; Win64; x64) AppleWebKit/537.36 (KHTML, like Gecko) Chrome/114.0.0.0 Safari/537.36',\n",
    "        'viewport-width': '1065',\n",
    "        'x-asbd-id': '129477',\n",
    "        'x-fb-friendly-name': 'CometPrivacySelectorSavePrivacyMutation',\n",
    "        'x-fb-lsd': 'RWTzch6_OQUTQEZZ65eBqi',\n",
    "    }\n",
    "    data = {\n",
    "        'fb_dtsg': fb_dtsg,\n",
    "        'fb_api_req_friendly_name': 'CometPrivacySelectorSavePrivacyMutation',\n",
    "        'variables': '{\"input\":{\"privacy_mutation_token\":null,\"privacy_row_input\":{\"allow\":[],\"base_state\":\"'+base_state+'\",\"deny\":[],\"tag_expansion_state\":\"UNSPECIFIED\"},\"privacy_write_id\":\"'+privacy_write_id+'\",\"render_location\":\"COMET_STREAM\",\"actor_id\":\"'+uid+'\",\"client_mutation_id\":\"1\"},\"privacySelectorRenderLocation\":\"COMET_STREAM\",\"scale\":1.5,\"storyRenderLocation\":\"permalink\",\"tags\":null}',\n",
    "        'doc_id': '9594350607306166',\n",
    "    }\n",
    "    response = requests.post('https://www.facebook.com/api/graphql/', cookies=cookies, headers=headers, data=data)\n",
    "    try:\n",
    "        state = response.json()['data']['privacy_selector_save']['privacy_scope']['privacy_scope_renderer']['privacy_row_input']['base_state']\n",
    "        return state\n",
    "    except Exception as e:\n",
    "        print(e)\n",
    "        return"
   ],
   "metadata": {
    "collapsed": false,
    "ExecuteTime": {
     "end_time": "2023-06-23T11:52:36.489296Z",
     "start_time": "2023-06-23T11:52:36.486794300Z"
    }
   }
  },
  {
   "cell_type": "code",
   "execution_count": null,
   "outputs": [],
   "source": [],
   "metadata": {
    "collapsed": false
   }
  }
 ],
 "metadata": {
  "kernelspec": {
   "display_name": "Python 3",
   "language": "python",
   "name": "python3"
  },
  "language_info": {
   "codemirror_mode": {
    "name": "ipython",
    "version": 2
   },
   "file_extension": ".py",
   "mimetype": "text/x-python",
   "name": "python",
   "nbconvert_exporter": "python",
   "pygments_lexer": "ipython2",
   "version": "2.7.6"
  }
 },
 "nbformat": 4,
 "nbformat_minor": 0
}
